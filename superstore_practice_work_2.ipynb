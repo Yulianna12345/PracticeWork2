{
  "cells": [
    {
      "cell_type": "markdown",
      "metadata": {
        "id": "3ea4d623"
      },
      "source": [
        "#Изучение данных и их подготовка"
      ],
      "id": "3ea4d623"
    },
    {
      "cell_type": "code",
      "execution_count": 842,
      "metadata": {
        "id": "c99ef459"
      },
      "outputs": [],
      "source": [
        "import numpy as np\n",
        "import pandas as pd\n",
        "import matplotlib.pyplot as plt\n",
        "import seaborn as sns\n",
        "import markdown \n",
        "import scipy.stats\n",
        "import warnings\n",
        "from matplotlib import pyplot as plt\n",
        "from patsy import dmatrices\n",
        "from statsmodels.stats.outliers_influence import variance_inflation_factor\n",
        "from sklearn.linear_model import LogisticRegression\n",
        "pd.options.display.float_format = '{:.4f}'.format"
      ],
      "id": "c99ef459"
    },
    {
      "cell_type": "code",
      "execution_count": 843,
      "metadata": {
        "colab": {
          "base_uri": "https://localhost:8080/",
          "height": 228
        },
        "id": "dbcbcca2",
        "outputId": "d57d19b7-52c9-4a41-aec2-30162b9a51b5"
      },
      "outputs": [
        {
          "output_type": "execute_result",
          "data": {
            "text/plain": [
              "        order_id order_date ship_date       ship_mode    customer_name  \\\n",
              "0   AG-2011-2040   1/1/2011  6/1/2011  Standard Class  Toby Braunhardt   \n",
              "1  IN-2011-47883   1/1/2011  8/1/2011  Standard Class      Joseph Holt   \n",
              "\n",
              "    segment            state    country  market   region        product_id  \\\n",
              "0  Consumer      Constantine    Algeria  Africa   Africa  OFF-TEN-10000025   \n",
              "1  Consumer  New South Wales  Australia    APAC  Oceania   OFF-SU-10000618   \n",
              "\n",
              "          category sub_category              product_name sales  quantity  \\\n",
              "0  Office Supplies      Storage       Tenex Lockers, Blue   408         2   \n",
              "1  Office Supplies     Supplies  Acme Trimmer, High Speed   120         3   \n",
              "\n",
              "   discount   profit  shipping_cost order_priority  year  \n",
              "0    0.0000 106.1400        35.4600         Medium  2011  \n",
              "1    0.1000  36.0360         9.7200         Medium  2011  "
            ],
            "text/html": [
              "\n",
              "  <div id=\"df-b0fae593-b5da-4b26-a378-ba7fa644d642\">\n",
              "    <div class=\"colab-df-container\">\n",
              "      <div>\n",
              "<style scoped>\n",
              "    .dataframe tbody tr th:only-of-type {\n",
              "        vertical-align: middle;\n",
              "    }\n",
              "\n",
              "    .dataframe tbody tr th {\n",
              "        vertical-align: top;\n",
              "    }\n",
              "\n",
              "    .dataframe thead th {\n",
              "        text-align: right;\n",
              "    }\n",
              "</style>\n",
              "<table border=\"1\" class=\"dataframe\">\n",
              "  <thead>\n",
              "    <tr style=\"text-align: right;\">\n",
              "      <th></th>\n",
              "      <th>order_id</th>\n",
              "      <th>order_date</th>\n",
              "      <th>ship_date</th>\n",
              "      <th>ship_mode</th>\n",
              "      <th>customer_name</th>\n",
              "      <th>segment</th>\n",
              "      <th>state</th>\n",
              "      <th>country</th>\n",
              "      <th>market</th>\n",
              "      <th>region</th>\n",
              "      <th>product_id</th>\n",
              "      <th>category</th>\n",
              "      <th>sub_category</th>\n",
              "      <th>product_name</th>\n",
              "      <th>sales</th>\n",
              "      <th>quantity</th>\n",
              "      <th>discount</th>\n",
              "      <th>profit</th>\n",
              "      <th>shipping_cost</th>\n",
              "      <th>order_priority</th>\n",
              "      <th>year</th>\n",
              "    </tr>\n",
              "  </thead>\n",
              "  <tbody>\n",
              "    <tr>\n",
              "      <th>0</th>\n",
              "      <td>AG-2011-2040</td>\n",
              "      <td>1/1/2011</td>\n",
              "      <td>6/1/2011</td>\n",
              "      <td>Standard Class</td>\n",
              "      <td>Toby Braunhardt</td>\n",
              "      <td>Consumer</td>\n",
              "      <td>Constantine</td>\n",
              "      <td>Algeria</td>\n",
              "      <td>Africa</td>\n",
              "      <td>Africa</td>\n",
              "      <td>OFF-TEN-10000025</td>\n",
              "      <td>Office Supplies</td>\n",
              "      <td>Storage</td>\n",
              "      <td>Tenex Lockers, Blue</td>\n",
              "      <td>408</td>\n",
              "      <td>2</td>\n",
              "      <td>0.0000</td>\n",
              "      <td>106.1400</td>\n",
              "      <td>35.4600</td>\n",
              "      <td>Medium</td>\n",
              "      <td>2011</td>\n",
              "    </tr>\n",
              "    <tr>\n",
              "      <th>1</th>\n",
              "      <td>IN-2011-47883</td>\n",
              "      <td>1/1/2011</td>\n",
              "      <td>8/1/2011</td>\n",
              "      <td>Standard Class</td>\n",
              "      <td>Joseph Holt</td>\n",
              "      <td>Consumer</td>\n",
              "      <td>New South Wales</td>\n",
              "      <td>Australia</td>\n",
              "      <td>APAC</td>\n",
              "      <td>Oceania</td>\n",
              "      <td>OFF-SU-10000618</td>\n",
              "      <td>Office Supplies</td>\n",
              "      <td>Supplies</td>\n",
              "      <td>Acme Trimmer, High Speed</td>\n",
              "      <td>120</td>\n",
              "      <td>3</td>\n",
              "      <td>0.1000</td>\n",
              "      <td>36.0360</td>\n",
              "      <td>9.7200</td>\n",
              "      <td>Medium</td>\n",
              "      <td>2011</td>\n",
              "    </tr>\n",
              "  </tbody>\n",
              "</table>\n",
              "</div>\n",
              "      <button class=\"colab-df-convert\" onclick=\"convertToInteractive('df-b0fae593-b5da-4b26-a378-ba7fa644d642')\"\n",
              "              title=\"Convert this dataframe to an interactive table.\"\n",
              "              style=\"display:none;\">\n",
              "        \n",
              "  <svg xmlns=\"http://www.w3.org/2000/svg\" height=\"24px\"viewBox=\"0 0 24 24\"\n",
              "       width=\"24px\">\n",
              "    <path d=\"M0 0h24v24H0V0z\" fill=\"none\"/>\n",
              "    <path d=\"M18.56 5.44l.94 2.06.94-2.06 2.06-.94-2.06-.94-.94-2.06-.94 2.06-2.06.94zm-11 1L8.5 8.5l.94-2.06 2.06-.94-2.06-.94L8.5 2.5l-.94 2.06-2.06.94zm10 10l.94 2.06.94-2.06 2.06-.94-2.06-.94-.94-2.06-.94 2.06-2.06.94z\"/><path d=\"M17.41 7.96l-1.37-1.37c-.4-.4-.92-.59-1.43-.59-.52 0-1.04.2-1.43.59L10.3 9.45l-7.72 7.72c-.78.78-.78 2.05 0 2.83L4 21.41c.39.39.9.59 1.41.59.51 0 1.02-.2 1.41-.59l7.78-7.78 2.81-2.81c.8-.78.8-2.07 0-2.86zM5.41 20L4 18.59l7.72-7.72 1.47 1.35L5.41 20z\"/>\n",
              "  </svg>\n",
              "      </button>\n",
              "      \n",
              "  <style>\n",
              "    .colab-df-container {\n",
              "      display:flex;\n",
              "      flex-wrap:wrap;\n",
              "      gap: 12px;\n",
              "    }\n",
              "\n",
              "    .colab-df-convert {\n",
              "      background-color: #E8F0FE;\n",
              "      border: none;\n",
              "      border-radius: 50%;\n",
              "      cursor: pointer;\n",
              "      display: none;\n",
              "      fill: #1967D2;\n",
              "      height: 32px;\n",
              "      padding: 0 0 0 0;\n",
              "      width: 32px;\n",
              "    }\n",
              "\n",
              "    .colab-df-convert:hover {\n",
              "      background-color: #E2EBFA;\n",
              "      box-shadow: 0px 1px 2px rgba(60, 64, 67, 0.3), 0px 1px 3px 1px rgba(60, 64, 67, 0.15);\n",
              "      fill: #174EA6;\n",
              "    }\n",
              "\n",
              "    [theme=dark] .colab-df-convert {\n",
              "      background-color: #3B4455;\n",
              "      fill: #D2E3FC;\n",
              "    }\n",
              "\n",
              "    [theme=dark] .colab-df-convert:hover {\n",
              "      background-color: #434B5C;\n",
              "      box-shadow: 0px 1px 3px 1px rgba(0, 0, 0, 0.15);\n",
              "      filter: drop-shadow(0px 1px 2px rgba(0, 0, 0, 0.3));\n",
              "      fill: #FFFFFF;\n",
              "    }\n",
              "  </style>\n",
              "\n",
              "      <script>\n",
              "        const buttonEl =\n",
              "          document.querySelector('#df-b0fae593-b5da-4b26-a378-ba7fa644d642 button.colab-df-convert');\n",
              "        buttonEl.style.display =\n",
              "          google.colab.kernel.accessAllowed ? 'block' : 'none';\n",
              "\n",
              "        async function convertToInteractive(key) {\n",
              "          const element = document.querySelector('#df-b0fae593-b5da-4b26-a378-ba7fa644d642');\n",
              "          const dataTable =\n",
              "            await google.colab.kernel.invokeFunction('convertToInteractive',\n",
              "                                                     [key], {});\n",
              "          if (!dataTable) return;\n",
              "\n",
              "          const docLinkHtml = 'Like what you see? Visit the ' +\n",
              "            '<a target=\"_blank\" href=https://colab.research.google.com/notebooks/data_table.ipynb>data table notebook</a>'\n",
              "            + ' to learn more about interactive tables.';\n",
              "          element.innerHTML = '';\n",
              "          dataTable['output_type'] = 'display_data';\n",
              "          await google.colab.output.renderOutput(dataTable, element);\n",
              "          const docLink = document.createElement('div');\n",
              "          docLink.innerHTML = docLinkHtml;\n",
              "          element.appendChild(docLink);\n",
              "        }\n",
              "      </script>\n",
              "    </div>\n",
              "  </div>\n",
              "  "
            ]
          },
          "metadata": {},
          "execution_count": 843
        }
      ],
      "source": [
        "df = pd.read_csv('drive/MyDrive/SuperStoreOrders.csv')\n",
        "pd.set_option('display.max_columns', None)\n",
        "df[:2]"
      ],
      "id": "dbcbcca2"
    },
    {
      "cell_type": "code",
      "execution_count": 844,
      "metadata": {
        "colab": {
          "base_uri": "https://localhost:8080/",
          "height": 113
        },
        "id": "178cc89c",
        "outputId": "c73630e4-eb75-458b-ee5d-dc5afe45ff03"
      },
      "outputs": [
        {
          "output_type": "execute_result",
          "data": {
            "text/plain": [
              "Empty DataFrame\n",
              "Columns: [order_id, order_date, ship_date, ship_mode, customer_name, segment, state, country, market, region, product_id, category, sub_category, product_name, sales, quantity, discount, profit, shipping_cost, order_priority, year]\n",
              "Index: []"
            ],
            "text/html": [
              "\n",
              "  <div id=\"df-2d32c059-d088-4fe2-9b35-399c550423d3\">\n",
              "    <div class=\"colab-df-container\">\n",
              "      <div>\n",
              "<style scoped>\n",
              "    .dataframe tbody tr th:only-of-type {\n",
              "        vertical-align: middle;\n",
              "    }\n",
              "\n",
              "    .dataframe tbody tr th {\n",
              "        vertical-align: top;\n",
              "    }\n",
              "\n",
              "    .dataframe thead th {\n",
              "        text-align: right;\n",
              "    }\n",
              "</style>\n",
              "<table border=\"1\" class=\"dataframe\">\n",
              "  <thead>\n",
              "    <tr style=\"text-align: right;\">\n",
              "      <th></th>\n",
              "      <th>order_id</th>\n",
              "      <th>order_date</th>\n",
              "      <th>ship_date</th>\n",
              "      <th>ship_mode</th>\n",
              "      <th>customer_name</th>\n",
              "      <th>segment</th>\n",
              "      <th>state</th>\n",
              "      <th>country</th>\n",
              "      <th>market</th>\n",
              "      <th>region</th>\n",
              "      <th>product_id</th>\n",
              "      <th>category</th>\n",
              "      <th>sub_category</th>\n",
              "      <th>product_name</th>\n",
              "      <th>sales</th>\n",
              "      <th>quantity</th>\n",
              "      <th>discount</th>\n",
              "      <th>profit</th>\n",
              "      <th>shipping_cost</th>\n",
              "      <th>order_priority</th>\n",
              "      <th>year</th>\n",
              "    </tr>\n",
              "  </thead>\n",
              "  <tbody>\n",
              "  </tbody>\n",
              "</table>\n",
              "</div>\n",
              "      <button class=\"colab-df-convert\" onclick=\"convertToInteractive('df-2d32c059-d088-4fe2-9b35-399c550423d3')\"\n",
              "              title=\"Convert this dataframe to an interactive table.\"\n",
              "              style=\"display:none;\">\n",
              "        \n",
              "  <svg xmlns=\"http://www.w3.org/2000/svg\" height=\"24px\"viewBox=\"0 0 24 24\"\n",
              "       width=\"24px\">\n",
              "    <path d=\"M0 0h24v24H0V0z\" fill=\"none\"/>\n",
              "    <path d=\"M18.56 5.44l.94 2.06.94-2.06 2.06-.94-2.06-.94-.94-2.06-.94 2.06-2.06.94zm-11 1L8.5 8.5l.94-2.06 2.06-.94-2.06-.94L8.5 2.5l-.94 2.06-2.06.94zm10 10l.94 2.06.94-2.06 2.06-.94-2.06-.94-.94-2.06-.94 2.06-2.06.94z\"/><path d=\"M17.41 7.96l-1.37-1.37c-.4-.4-.92-.59-1.43-.59-.52 0-1.04.2-1.43.59L10.3 9.45l-7.72 7.72c-.78.78-.78 2.05 0 2.83L4 21.41c.39.39.9.59 1.41.59.51 0 1.02-.2 1.41-.59l7.78-7.78 2.81-2.81c.8-.78.8-2.07 0-2.86zM5.41 20L4 18.59l7.72-7.72 1.47 1.35L5.41 20z\"/>\n",
              "  </svg>\n",
              "      </button>\n",
              "      \n",
              "  <style>\n",
              "    .colab-df-container {\n",
              "      display:flex;\n",
              "      flex-wrap:wrap;\n",
              "      gap: 12px;\n",
              "    }\n",
              "\n",
              "    .colab-df-convert {\n",
              "      background-color: #E8F0FE;\n",
              "      border: none;\n",
              "      border-radius: 50%;\n",
              "      cursor: pointer;\n",
              "      display: none;\n",
              "      fill: #1967D2;\n",
              "      height: 32px;\n",
              "      padding: 0 0 0 0;\n",
              "      width: 32px;\n",
              "    }\n",
              "\n",
              "    .colab-df-convert:hover {\n",
              "      background-color: #E2EBFA;\n",
              "      box-shadow: 0px 1px 2px rgba(60, 64, 67, 0.3), 0px 1px 3px 1px rgba(60, 64, 67, 0.15);\n",
              "      fill: #174EA6;\n",
              "    }\n",
              "\n",
              "    [theme=dark] .colab-df-convert {\n",
              "      background-color: #3B4455;\n",
              "      fill: #D2E3FC;\n",
              "    }\n",
              "\n",
              "    [theme=dark] .colab-df-convert:hover {\n",
              "      background-color: #434B5C;\n",
              "      box-shadow: 0px 1px 3px 1px rgba(0, 0, 0, 0.15);\n",
              "      filter: drop-shadow(0px 1px 2px rgba(0, 0, 0, 0.3));\n",
              "      fill: #FFFFFF;\n",
              "    }\n",
              "  </style>\n",
              "\n",
              "      <script>\n",
              "        const buttonEl =\n",
              "          document.querySelector('#df-2d32c059-d088-4fe2-9b35-399c550423d3 button.colab-df-convert');\n",
              "        buttonEl.style.display =\n",
              "          google.colab.kernel.accessAllowed ? 'block' : 'none';\n",
              "\n",
              "        async function convertToInteractive(key) {\n",
              "          const element = document.querySelector('#df-2d32c059-d088-4fe2-9b35-399c550423d3');\n",
              "          const dataTable =\n",
              "            await google.colab.kernel.invokeFunction('convertToInteractive',\n",
              "                                                     [key], {});\n",
              "          if (!dataTable) return;\n",
              "\n",
              "          const docLinkHtml = 'Like what you see? Visit the ' +\n",
              "            '<a target=\"_blank\" href=https://colab.research.google.com/notebooks/data_table.ipynb>data table notebook</a>'\n",
              "            + ' to learn more about interactive tables.';\n",
              "          element.innerHTML = '';\n",
              "          dataTable['output_type'] = 'display_data';\n",
              "          await google.colab.output.renderOutput(dataTable, element);\n",
              "          const docLink = document.createElement('div');\n",
              "          docLink.innerHTML = docLinkHtml;\n",
              "          element.appendChild(docLink);\n",
              "        }\n",
              "      </script>\n",
              "    </div>\n",
              "  </div>\n",
              "  "
            ]
          },
          "metadata": {},
          "execution_count": 844
        }
      ],
      "source": [
        "df[df.duplicated()]\n",
        "\n",
        "#проверяем данные на наличие дублей"
      ],
      "id": "178cc89c"
    },
    {
      "cell_type": "code",
      "execution_count": 845,
      "metadata": {
        "colab": {
          "base_uri": "https://localhost:8080/"
        },
        "id": "rPDZfmh6QjQU",
        "outputId": "634ef0f7-ea2f-4ce7-864d-6c0e6a6e48b2"
      },
      "outputs": [
        {
          "output_type": "stream",
          "name": "stdout",
          "text": [
            "<class 'pandas.core.frame.DataFrame'>\n",
            "RangeIndex: 51290 entries, 0 to 51289\n",
            "Data columns (total 21 columns):\n",
            " #   Column          Non-Null Count  Dtype  \n",
            "---  ------          --------------  -----  \n",
            " 0   order_id        51290 non-null  object \n",
            " 1   order_date      51290 non-null  object \n",
            " 2   ship_date       51290 non-null  object \n",
            " 3   ship_mode       51290 non-null  object \n",
            " 4   customer_name   51290 non-null  object \n",
            " 5   segment         51290 non-null  object \n",
            " 6   state           51290 non-null  object \n",
            " 7   country         51290 non-null  object \n",
            " 8   market          51290 non-null  object \n",
            " 9   region          51290 non-null  object \n",
            " 10  product_id      51290 non-null  object \n",
            " 11  category        51290 non-null  object \n",
            " 12  sub_category    51290 non-null  object \n",
            " 13  product_name    51290 non-null  object \n",
            " 14  sales           51290 non-null  object \n",
            " 15  quantity        51290 non-null  int64  \n",
            " 16  discount        51290 non-null  float64\n",
            " 17  profit          51290 non-null  float64\n",
            " 18  shipping_cost   51290 non-null  float64\n",
            " 19  order_priority  51290 non-null  object \n",
            " 20  year            51290 non-null  int64  \n",
            "dtypes: float64(3), int64(2), object(16)\n",
            "memory usage: 8.2+ MB\n"
          ]
        }
      ],
      "source": [
        "df.info()\n",
        "\n",
        "#проверяем данные и на будущее видим, что нет нулевых значений"
      ],
      "id": "rPDZfmh6QjQU"
    },
    {
      "cell_type": "code",
      "execution_count": 846,
      "metadata": {
        "colab": {
          "base_uri": "https://localhost:8080/",
          "height": 112
        },
        "id": "YeCq-8nsMIGb",
        "outputId": "bfe9f4ce-84a0-4b6f-9263-0e8b7d350cfa"
      },
      "outputs": [
        {
          "output_type": "execute_result",
          "data": {
            "text/plain": [
              "  sales  quantity  discount   profit  shipping_cost  year\n",
              "0   408         2    0.0000 106.1400        35.4600  2011\n",
              "1   120         3    0.1000  36.0360         9.7200  2011"
            ],
            "text/html": [
              "\n",
              "  <div id=\"df-3e13a490-8f4a-497a-a0cd-f42fd1127184\">\n",
              "    <div class=\"colab-df-container\">\n",
              "      <div>\n",
              "<style scoped>\n",
              "    .dataframe tbody tr th:only-of-type {\n",
              "        vertical-align: middle;\n",
              "    }\n",
              "\n",
              "    .dataframe tbody tr th {\n",
              "        vertical-align: top;\n",
              "    }\n",
              "\n",
              "    .dataframe thead th {\n",
              "        text-align: right;\n",
              "    }\n",
              "</style>\n",
              "<table border=\"1\" class=\"dataframe\">\n",
              "  <thead>\n",
              "    <tr style=\"text-align: right;\">\n",
              "      <th></th>\n",
              "      <th>sales</th>\n",
              "      <th>quantity</th>\n",
              "      <th>discount</th>\n",
              "      <th>profit</th>\n",
              "      <th>shipping_cost</th>\n",
              "      <th>year</th>\n",
              "    </tr>\n",
              "  </thead>\n",
              "  <tbody>\n",
              "    <tr>\n",
              "      <th>0</th>\n",
              "      <td>408</td>\n",
              "      <td>2</td>\n",
              "      <td>0.0000</td>\n",
              "      <td>106.1400</td>\n",
              "      <td>35.4600</td>\n",
              "      <td>2011</td>\n",
              "    </tr>\n",
              "    <tr>\n",
              "      <th>1</th>\n",
              "      <td>120</td>\n",
              "      <td>3</td>\n",
              "      <td>0.1000</td>\n",
              "      <td>36.0360</td>\n",
              "      <td>9.7200</td>\n",
              "      <td>2011</td>\n",
              "    </tr>\n",
              "  </tbody>\n",
              "</table>\n",
              "</div>\n",
              "      <button class=\"colab-df-convert\" onclick=\"convertToInteractive('df-3e13a490-8f4a-497a-a0cd-f42fd1127184')\"\n",
              "              title=\"Convert this dataframe to an interactive table.\"\n",
              "              style=\"display:none;\">\n",
              "        \n",
              "  <svg xmlns=\"http://www.w3.org/2000/svg\" height=\"24px\"viewBox=\"0 0 24 24\"\n",
              "       width=\"24px\">\n",
              "    <path d=\"M0 0h24v24H0V0z\" fill=\"none\"/>\n",
              "    <path d=\"M18.56 5.44l.94 2.06.94-2.06 2.06-.94-2.06-.94-.94-2.06-.94 2.06-2.06.94zm-11 1L8.5 8.5l.94-2.06 2.06-.94-2.06-.94L8.5 2.5l-.94 2.06-2.06.94zm10 10l.94 2.06.94-2.06 2.06-.94-2.06-.94-.94-2.06-.94 2.06-2.06.94z\"/><path d=\"M17.41 7.96l-1.37-1.37c-.4-.4-.92-.59-1.43-.59-.52 0-1.04.2-1.43.59L10.3 9.45l-7.72 7.72c-.78.78-.78 2.05 0 2.83L4 21.41c.39.39.9.59 1.41.59.51 0 1.02-.2 1.41-.59l7.78-7.78 2.81-2.81c.8-.78.8-2.07 0-2.86zM5.41 20L4 18.59l7.72-7.72 1.47 1.35L5.41 20z\"/>\n",
              "  </svg>\n",
              "      </button>\n",
              "      \n",
              "  <style>\n",
              "    .colab-df-container {\n",
              "      display:flex;\n",
              "      flex-wrap:wrap;\n",
              "      gap: 12px;\n",
              "    }\n",
              "\n",
              "    .colab-df-convert {\n",
              "      background-color: #E8F0FE;\n",
              "      border: none;\n",
              "      border-radius: 50%;\n",
              "      cursor: pointer;\n",
              "      display: none;\n",
              "      fill: #1967D2;\n",
              "      height: 32px;\n",
              "      padding: 0 0 0 0;\n",
              "      width: 32px;\n",
              "    }\n",
              "\n",
              "    .colab-df-convert:hover {\n",
              "      background-color: #E2EBFA;\n",
              "      box-shadow: 0px 1px 2px rgba(60, 64, 67, 0.3), 0px 1px 3px 1px rgba(60, 64, 67, 0.15);\n",
              "      fill: #174EA6;\n",
              "    }\n",
              "\n",
              "    [theme=dark] .colab-df-convert {\n",
              "      background-color: #3B4455;\n",
              "      fill: #D2E3FC;\n",
              "    }\n",
              "\n",
              "    [theme=dark] .colab-df-convert:hover {\n",
              "      background-color: #434B5C;\n",
              "      box-shadow: 0px 1px 3px 1px rgba(0, 0, 0, 0.15);\n",
              "      filter: drop-shadow(0px 1px 2px rgba(0, 0, 0, 0.3));\n",
              "      fill: #FFFFFF;\n",
              "    }\n",
              "  </style>\n",
              "\n",
              "      <script>\n",
              "        const buttonEl =\n",
              "          document.querySelector('#df-3e13a490-8f4a-497a-a0cd-f42fd1127184 button.colab-df-convert');\n",
              "        buttonEl.style.display =\n",
              "          google.colab.kernel.accessAllowed ? 'block' : 'none';\n",
              "\n",
              "        async function convertToInteractive(key) {\n",
              "          const element = document.querySelector('#df-3e13a490-8f4a-497a-a0cd-f42fd1127184');\n",
              "          const dataTable =\n",
              "            await google.colab.kernel.invokeFunction('convertToInteractive',\n",
              "                                                     [key], {});\n",
              "          if (!dataTable) return;\n",
              "\n",
              "          const docLinkHtml = 'Like what you see? Visit the ' +\n",
              "            '<a target=\"_blank\" href=https://colab.research.google.com/notebooks/data_table.ipynb>data table notebook</a>'\n",
              "            + ' to learn more about interactive tables.';\n",
              "          element.innerHTML = '';\n",
              "          dataTable['output_type'] = 'display_data';\n",
              "          await google.colab.output.renderOutput(dataTable, element);\n",
              "          const docLink = document.createElement('div');\n",
              "          docLink.innerHTML = docLinkHtml;\n",
              "          element.appendChild(docLink);\n",
              "        }\n",
              "      </script>\n",
              "    </div>\n",
              "  </div>\n",
              "  "
            ]
          },
          "metadata": {},
          "execution_count": 846
        }
      ],
      "source": [
        "#убираем данные, которые не будут результативны для тех инструментов, которые мы планируем использовать во второй работе: тестирование гипотез,\n",
        "#линейная и логистическая регрессия\n",
        "#фактически, нам нужно оставить только количественные данные, но не будем пока полностью удалять качественные данные, просто выделим количественные в отдельный датафрейм\n",
        "\n",
        "df_num = df[['sales', 'quantity', 'discount',\t'profit', 'shipping_cost', 'year']]\n",
        "df_num[:2]"
      ],
      "id": "YeCq-8nsMIGb"
    },
    {
      "cell_type": "code",
      "execution_count": 847,
      "metadata": {
        "colab": {
          "base_uri": "https://localhost:8080/"
        },
        "id": "b5038075",
        "outputId": "99440bd8-66ef-4d99-bc86-a3857bc9ffc0"
      },
      "outputs": [
        {
          "output_type": "execute_result",
          "data": {
            "text/plain": [
              "sales             object\n",
              "quantity           int64\n",
              "discount         float64\n",
              "profit           float64\n",
              "shipping_cost    float64\n",
              "year               int64\n",
              "dtype: object"
            ]
          },
          "metadata": {},
          "execution_count": 847
        }
      ],
      "source": [
        "df_num.dtypes"
      ],
      "id": "b5038075"
    },
    {
      "cell_type": "code",
      "execution_count": 848,
      "metadata": {
        "colab": {
          "base_uri": "https://localhost:8080/"
        },
        "id": "fe0e733b",
        "outputId": "4c369161-bdbe-4bc6-a2be-1c86050a896b"
      },
      "outputs": [
        {
          "output_type": "execute_result",
          "data": {
            "text/plain": [
              "sales             2246\n",
              "quantity            14\n",
              "discount            27\n",
              "profit           24575\n",
              "shipping_cost    10037\n",
              "year                 4\n",
              "dtype: int64"
            ]
          },
          "metadata": {},
          "execution_count": 848
        }
      ],
      "source": [
        "df_num.nunique()"
      ],
      "id": "fe0e733b"
    },
    {
      "cell_type": "code",
      "execution_count": 849,
      "metadata": {
        "colab": {
          "base_uri": "https://localhost:8080/",
          "height": 300
        },
        "id": "690ea283",
        "outputId": "06f15920-7880-422d-9eec-d75ce8bd2172"
      },
      "outputs": [
        {
          "output_type": "execute_result",
          "data": {
            "text/plain": [
              "        quantity   discount     profit  shipping_cost       year\n",
              "count 51290.0000 51290.0000 51290.0000     51290.0000 51290.0000\n",
              "mean      3.4765     0.1429    28.6417        26.3759  2012.7772\n",
              "std       2.2788     0.2123   174.4241        57.2968     1.0989\n",
              "min       1.0000     0.0000 -6599.9780         0.0000  2011.0000\n",
              "25%       2.0000     0.0000     0.0000         2.6100  2012.0000\n",
              "50%       3.0000     0.0000     9.2400         7.7900  2013.0000\n",
              "75%       5.0000     0.2000    36.8100        24.4500  2014.0000\n",
              "max      14.0000     0.8500  8399.9760       933.5700  2014.0000"
            ],
            "text/html": [
              "\n",
              "  <div id=\"df-33089f96-9c4f-4e96-9f56-58eaecef517b\">\n",
              "    <div class=\"colab-df-container\">\n",
              "      <div>\n",
              "<style scoped>\n",
              "    .dataframe tbody tr th:only-of-type {\n",
              "        vertical-align: middle;\n",
              "    }\n",
              "\n",
              "    .dataframe tbody tr th {\n",
              "        vertical-align: top;\n",
              "    }\n",
              "\n",
              "    .dataframe thead th {\n",
              "        text-align: right;\n",
              "    }\n",
              "</style>\n",
              "<table border=\"1\" class=\"dataframe\">\n",
              "  <thead>\n",
              "    <tr style=\"text-align: right;\">\n",
              "      <th></th>\n",
              "      <th>quantity</th>\n",
              "      <th>discount</th>\n",
              "      <th>profit</th>\n",
              "      <th>shipping_cost</th>\n",
              "      <th>year</th>\n",
              "    </tr>\n",
              "  </thead>\n",
              "  <tbody>\n",
              "    <tr>\n",
              "      <th>count</th>\n",
              "      <td>51290.0000</td>\n",
              "      <td>51290.0000</td>\n",
              "      <td>51290.0000</td>\n",
              "      <td>51290.0000</td>\n",
              "      <td>51290.0000</td>\n",
              "    </tr>\n",
              "    <tr>\n",
              "      <th>mean</th>\n",
              "      <td>3.4765</td>\n",
              "      <td>0.1429</td>\n",
              "      <td>28.6417</td>\n",
              "      <td>26.3759</td>\n",
              "      <td>2012.7772</td>\n",
              "    </tr>\n",
              "    <tr>\n",
              "      <th>std</th>\n",
              "      <td>2.2788</td>\n",
              "      <td>0.2123</td>\n",
              "      <td>174.4241</td>\n",
              "      <td>57.2968</td>\n",
              "      <td>1.0989</td>\n",
              "    </tr>\n",
              "    <tr>\n",
              "      <th>min</th>\n",
              "      <td>1.0000</td>\n",
              "      <td>0.0000</td>\n",
              "      <td>-6599.9780</td>\n",
              "      <td>0.0000</td>\n",
              "      <td>2011.0000</td>\n",
              "    </tr>\n",
              "    <tr>\n",
              "      <th>25%</th>\n",
              "      <td>2.0000</td>\n",
              "      <td>0.0000</td>\n",
              "      <td>0.0000</td>\n",
              "      <td>2.6100</td>\n",
              "      <td>2012.0000</td>\n",
              "    </tr>\n",
              "    <tr>\n",
              "      <th>50%</th>\n",
              "      <td>3.0000</td>\n",
              "      <td>0.0000</td>\n",
              "      <td>9.2400</td>\n",
              "      <td>7.7900</td>\n",
              "      <td>2013.0000</td>\n",
              "    </tr>\n",
              "    <tr>\n",
              "      <th>75%</th>\n",
              "      <td>5.0000</td>\n",
              "      <td>0.2000</td>\n",
              "      <td>36.8100</td>\n",
              "      <td>24.4500</td>\n",
              "      <td>2014.0000</td>\n",
              "    </tr>\n",
              "    <tr>\n",
              "      <th>max</th>\n",
              "      <td>14.0000</td>\n",
              "      <td>0.8500</td>\n",
              "      <td>8399.9760</td>\n",
              "      <td>933.5700</td>\n",
              "      <td>2014.0000</td>\n",
              "    </tr>\n",
              "  </tbody>\n",
              "</table>\n",
              "</div>\n",
              "      <button class=\"colab-df-convert\" onclick=\"convertToInteractive('df-33089f96-9c4f-4e96-9f56-58eaecef517b')\"\n",
              "              title=\"Convert this dataframe to an interactive table.\"\n",
              "              style=\"display:none;\">\n",
              "        \n",
              "  <svg xmlns=\"http://www.w3.org/2000/svg\" height=\"24px\"viewBox=\"0 0 24 24\"\n",
              "       width=\"24px\">\n",
              "    <path d=\"M0 0h24v24H0V0z\" fill=\"none\"/>\n",
              "    <path d=\"M18.56 5.44l.94 2.06.94-2.06 2.06-.94-2.06-.94-.94-2.06-.94 2.06-2.06.94zm-11 1L8.5 8.5l.94-2.06 2.06-.94-2.06-.94L8.5 2.5l-.94 2.06-2.06.94zm10 10l.94 2.06.94-2.06 2.06-.94-2.06-.94-.94-2.06-.94 2.06-2.06.94z\"/><path d=\"M17.41 7.96l-1.37-1.37c-.4-.4-.92-.59-1.43-.59-.52 0-1.04.2-1.43.59L10.3 9.45l-7.72 7.72c-.78.78-.78 2.05 0 2.83L4 21.41c.39.39.9.59 1.41.59.51 0 1.02-.2 1.41-.59l7.78-7.78 2.81-2.81c.8-.78.8-2.07 0-2.86zM5.41 20L4 18.59l7.72-7.72 1.47 1.35L5.41 20z\"/>\n",
              "  </svg>\n",
              "      </button>\n",
              "      \n",
              "  <style>\n",
              "    .colab-df-container {\n",
              "      display:flex;\n",
              "      flex-wrap:wrap;\n",
              "      gap: 12px;\n",
              "    }\n",
              "\n",
              "    .colab-df-convert {\n",
              "      background-color: #E8F0FE;\n",
              "      border: none;\n",
              "      border-radius: 50%;\n",
              "      cursor: pointer;\n",
              "      display: none;\n",
              "      fill: #1967D2;\n",
              "      height: 32px;\n",
              "      padding: 0 0 0 0;\n",
              "      width: 32px;\n",
              "    }\n",
              "\n",
              "    .colab-df-convert:hover {\n",
              "      background-color: #E2EBFA;\n",
              "      box-shadow: 0px 1px 2px rgba(60, 64, 67, 0.3), 0px 1px 3px 1px rgba(60, 64, 67, 0.15);\n",
              "      fill: #174EA6;\n",
              "    }\n",
              "\n",
              "    [theme=dark] .colab-df-convert {\n",
              "      background-color: #3B4455;\n",
              "      fill: #D2E3FC;\n",
              "    }\n",
              "\n",
              "    [theme=dark] .colab-df-convert:hover {\n",
              "      background-color: #434B5C;\n",
              "      box-shadow: 0px 1px 3px 1px rgba(0, 0, 0, 0.15);\n",
              "      filter: drop-shadow(0px 1px 2px rgba(0, 0, 0, 0.3));\n",
              "      fill: #FFFFFF;\n",
              "    }\n",
              "  </style>\n",
              "\n",
              "      <script>\n",
              "        const buttonEl =\n",
              "          document.querySelector('#df-33089f96-9c4f-4e96-9f56-58eaecef517b button.colab-df-convert');\n",
              "        buttonEl.style.display =\n",
              "          google.colab.kernel.accessAllowed ? 'block' : 'none';\n",
              "\n",
              "        async function convertToInteractive(key) {\n",
              "          const element = document.querySelector('#df-33089f96-9c4f-4e96-9f56-58eaecef517b');\n",
              "          const dataTable =\n",
              "            await google.colab.kernel.invokeFunction('convertToInteractive',\n",
              "                                                     [key], {});\n",
              "          if (!dataTable) return;\n",
              "\n",
              "          const docLinkHtml = 'Like what you see? Visit the ' +\n",
              "            '<a target=\"_blank\" href=https://colab.research.google.com/notebooks/data_table.ipynb>data table notebook</a>'\n",
              "            + ' to learn more about interactive tables.';\n",
              "          element.innerHTML = '';\n",
              "          dataTable['output_type'] = 'display_data';\n",
              "          await google.colab.output.renderOutput(dataTable, element);\n",
              "          const docLink = document.createElement('div');\n",
              "          docLink.innerHTML = docLinkHtml;\n",
              "          element.appendChild(docLink);\n",
              "        }\n",
              "      </script>\n",
              "    </div>\n",
              "  </div>\n",
              "  "
            ]
          },
          "metadata": {},
          "execution_count": 849
        }
      ],
      "source": [
        "df_num.describe()"
      ],
      "id": "690ea283"
    },
    {
      "cell_type": "markdown",
      "metadata": {
        "id": "vmNGFBkHP__h"
      },
      "source": [
        "#Ответы на несколько вопросов с помощью базовой визуализации "
      ],
      "id": "vmNGFBkHP__h"
    },
    {
      "cell_type": "markdown",
      "metadata": {
        "id": "2eec5a01"
      },
      "source": [
        "##Вопрос 1: самые продаваемые товары"
      ],
      "id": "2eec5a01"
    },
    {
      "cell_type": "code",
      "execution_count": 850,
      "metadata": {
        "colab": {
          "base_uri": "https://localhost:8080/",
          "height": 294
        },
        "id": "a946a254",
        "outputId": "fa7900c1-13ee-4f70-f84f-9a70a47185ea"
      },
      "outputs": [
        {
          "output_type": "display_data",
          "data": {
            "text/plain": [
              "<Figure size 576x288 with 1 Axes>"
            ],
            "image/png": "[encoded data removed]"
          },
          "metadata": {
            "needs_background": "light"
          }
        }
      ],
      "source": [
        "plt.figure(figsize=(8, 4))\n",
        "sns.countplot(y='product_name', data=df, order=df['product_name'].value_counts().head(3).index)\n",
        "plt.title('Самые продаваемые товары', fontsize=12)\n",
        "plt.xlabel('Count', fontsize=8)\n",
        "plt.ylabel('Product Name', fontsize=8)\n",
        "plt.show()"
      ],
      "id": "a946a254"
    },
    {
      "cell_type": "code",
      "execution_count": 851,
      "metadata": {
        "colab": {
          "base_uri": "https://localhost:8080/",
          "height": 175
        },
        "id": "80ef0c5c",
        "outputId": "5cc4a8e1-6459-40b5-e558-f8aa4a7d7487"
      },
      "outputs": [
        {
          "output_type": "execute_result",
          "data": {
            "text/plain": [
              "                               quantity\n",
              "product_name                           \n",
              "Staples                             876\n",
              "Cardinal Index Tab, Clear           337\n",
              "Eldon File Cart, Single Width       321"
            ],
            "text/html": [
              "\n",
              "  <div id=\"df-f8503335-b974-4c1d-82dd-a6d9f3042c1b\">\n",
              "    <div class=\"colab-df-container\">\n",
              "      <div>\n",
              "<style scoped>\n",
              "    .dataframe tbody tr th:only-of-type {\n",
              "        vertical-align: middle;\n",
              "    }\n",
              "\n",
              "    .dataframe tbody tr th {\n",
              "        vertical-align: top;\n",
              "    }\n",
              "\n",
              "    .dataframe thead th {\n",
              "        text-align: right;\n",
              "    }\n",
              "</style>\n",
              "<table border=\"1\" class=\"dataframe\">\n",
              "  <thead>\n",
              "    <tr style=\"text-align: right;\">\n",
              "      <th></th>\n",
              "      <th>quantity</th>\n",
              "    </tr>\n",
              "    <tr>\n",
              "      <th>product_name</th>\n",
              "      <th></th>\n",
              "    </tr>\n",
              "  </thead>\n",
              "  <tbody>\n",
              "    <tr>\n",
              "      <th>Staples</th>\n",
              "      <td>876</td>\n",
              "    </tr>\n",
              "    <tr>\n",
              "      <th>Cardinal Index Tab, Clear</th>\n",
              "      <td>337</td>\n",
              "    </tr>\n",
              "    <tr>\n",
              "      <th>Eldon File Cart, Single Width</th>\n",
              "      <td>321</td>\n",
              "    </tr>\n",
              "  </tbody>\n",
              "</table>\n",
              "</div>\n",
              "      <button class=\"colab-df-convert\" onclick=\"convertToInteractive('df-f8503335-b974-4c1d-82dd-a6d9f3042c1b')\"\n",
              "              title=\"Convert this dataframe to an interactive table.\"\n",
              "              style=\"display:none;\">\n",
              "        \n",
              "  <svg xmlns=\"http://www.w3.org/2000/svg\" height=\"24px\"viewBox=\"0 0 24 24\"\n",
              "       width=\"24px\">\n",
              "    <path d=\"M0 0h24v24H0V0z\" fill=\"none\"/>\n",
              "    <path d=\"M18.56 5.44l.94 2.06.94-2.06 2.06-.94-2.06-.94-.94-2.06-.94 2.06-2.06.94zm-11 1L8.5 8.5l.94-2.06 2.06-.94-2.06-.94L8.5 2.5l-.94 2.06-2.06.94zm10 10l.94 2.06.94-2.06 2.06-.94-2.06-.94-.94-2.06-.94 2.06-2.06.94z\"/><path d=\"M17.41 7.96l-1.37-1.37c-.4-.4-.92-.59-1.43-.59-.52 0-1.04.2-1.43.59L10.3 9.45l-7.72 7.72c-.78.78-.78 2.05 0 2.83L4 21.41c.39.39.9.59 1.41.59.51 0 1.02-.2 1.41-.59l7.78-7.78 2.81-2.81c.8-.78.8-2.07 0-2.86zM5.41 20L4 18.59l7.72-7.72 1.47 1.35L5.41 20z\"/>\n",
              "  </svg>\n",
              "      </button>\n",
              "      \n",
              "  <style>\n",
              "    .colab-df-container {\n",
              "      display:flex;\n",
              "      flex-wrap:wrap;\n",
              "      gap: 12px;\n",
              "    }\n",
              "\n",
              "    .colab-df-convert {\n",
              "      background-color: #E8F0FE;\n",
              "      border: none;\n",
              "      border-radius: 50%;\n",
              "      cursor: pointer;\n",
              "      display: none;\n",
              "      fill: #1967D2;\n",
              "      height: 32px;\n",
              "      padding: 0 0 0 0;\n",
              "      width: 32px;\n",
              "    }\n",
              "\n",
              "    .colab-df-convert:hover {\n",
              "      background-color: #E2EBFA;\n",
              "      box-shadow: 0px 1px 2px rgba(60, 64, 67, 0.3), 0px 1px 3px 1px rgba(60, 64, 67, 0.15);\n",
              "      fill: #174EA6;\n",
              "    }\n",
              "\n",
              "    [theme=dark] .colab-df-convert {\n",
              "      background-color: #3B4455;\n",
              "      fill: #D2E3FC;\n",
              "    }\n",
              "\n",
              "    [theme=dark] .colab-df-convert:hover {\n",
              "      background-color: #434B5C;\n",
              "      box-shadow: 0px 1px 3px 1px rgba(0, 0, 0, 0.15);\n",
              "      filter: drop-shadow(0px 1px 2px rgba(0, 0, 0, 0.3));\n",
              "      fill: #FFFFFF;\n",
              "    }\n",
              "  </style>\n",
              "\n",
              "      <script>\n",
              "        const buttonEl =\n",
              "          document.querySelector('#df-f8503335-b974-4c1d-82dd-a6d9f3042c1b button.colab-df-convert');\n",
              "        buttonEl.style.display =\n",
              "          google.colab.kernel.accessAllowed ? 'block' : 'none';\n",
              "\n",
              "        async function convertToInteractive(key) {\n",
              "          const element = document.querySelector('#df-f8503335-b974-4c1d-82dd-a6d9f3042c1b');\n",
              "          const dataTable =\n",
              "            await google.colab.kernel.invokeFunction('convertToInteractive',\n",
              "                                                     [key], {});\n",
              "          if (!dataTable) return;\n",
              "\n",
              "          const docLinkHtml = 'Like what you see? Visit the ' +\n",
              "            '<a target=\"_blank\" href=https://colab.research.google.com/notebooks/data_table.ipynb>data table notebook</a>'\n",
              "            + ' to learn more about interactive tables.';\n",
              "          element.innerHTML = '';\n",
              "          dataTable['output_type'] = 'display_data';\n",
              "          await google.colab.output.renderOutput(dataTable, element);\n",
              "          const docLink = document.createElement('div');\n",
              "          docLink.innerHTML = docLinkHtml;\n",
              "          element.appendChild(docLink);\n",
              "        }\n",
              "      </script>\n",
              "    </div>\n",
              "  </div>\n",
              "  "
            ]
          },
          "metadata": {},
          "execution_count": 851
        }
      ],
      "source": [
        "top_sp = pd.DataFrame(df.groupby(['product_name']).sum()['quantity'])\n",
        "top_sp.sort_values('quantity',ascending=False)[:3]\n",
        "\n",
        "#вывод: самые продаваемые товары по количеству — это скобки, вкладыши и система хранения документов"
      ],
      "id": "80ef0c5c"
    },
    {
      "cell_type": "markdown",
      "metadata": {
        "id": "e91dc7ac"
      },
      "source": [
        "##Вопрос 2: какой регион дает наибольшие скидки"
      ],
      "id": "e91dc7ac"
    },
    {
      "cell_type": "code",
      "execution_count": 852,
      "metadata": {
        "colab": {
          "base_uri": "https://localhost:8080/",
          "height": 399
        },
        "id": "54830be5",
        "outputId": "4f2f7bb7-af68-4b87-a00d-02cb40476665"
      },
      "outputs": [
        {
          "output_type": "display_data",
          "data": {
            "text/plain": [
              "<Figure size 1080x360 with 1 Axes>"
            ],
            "image/png": "[encoded data removed]"
          },
          "metadata": {
            "needs_background": "light"
          }
        }
      ],
      "source": [
        "regions= df.groupby(['region']).sum().sort_values('discount', ascending=False)\n",
        "regions.reset_index(inplace=True)\n",
        "\n",
        "fig, ax = plt.subplots(figsize=(15, 5))\n",
        "sns.barplot(x='region', y='discount', data=regions)\n",
        "plt.xticks(rotation=90)\n",
        "plt.show();"
      ],
      "id": "54830be5"
    },
    {
      "cell_type": "code",
      "execution_count": 853,
      "metadata": {
        "colab": {
          "base_uri": "https://localhost:8080/",
          "height": 330
        },
        "id": "04132ee5",
        "outputId": "6ee8bfc6-6cbc-4310-c472-576768bc5cff"
      },
      "outputs": [
        {
          "output_type": "display_data",
          "data": {
            "text/plain": [
              "<Figure size 432x288 with 1 Axes>"
            ],
            "image/png": "[encoded data removed]"
          },
          "metadata": {
            "needs_background": "light"
          }
        }
      ],
      "source": [
        "df.groupby(['region']).sum()[['profit']].sort_values(by=\"profit\",ascending=False).nlargest(n=5, columns=['profit']).plot.bar(color=\"green\")\n",
        "plt.show()\n",
        "\n",
        "#анализ показывает, что высокие скидки в Центральном регионе, и, несмотря на это, Центральный регион по-прежнему остается самым прибыльным"
      ],
      "id": "04132ee5"
    },
    {
      "cell_type": "markdown",
      "metadata": {
        "id": "cbd9ede7"
      },
      "source": [
        "## Вопрос 3: какой способ доставки используют чаще всего\n",
        "\n"
      ],
      "id": "cbd9ede7"
    },
    {
      "cell_type": "code",
      "execution_count": 854,
      "metadata": {
        "colab": {
          "base_uri": "https://localhost:8080/"
        },
        "id": "3f29eb5c",
        "outputId": "27a49494-7fbd-40f8-9603-1fe4d4b84c05"
      },
      "outputs": [
        {
          "output_type": "execute_result",
          "data": {
            "text/plain": [
              "Standard Class    30775\n",
              "Second Class      10309\n",
              "First Class        7505\n",
              "Same Day           2701\n",
              "Name: ship_mode, dtype: int64"
            ]
          },
          "metadata": {},
          "execution_count": 854
        }
      ],
      "source": [
        "df['ship_mode'].value_counts()"
      ],
      "id": "3f29eb5c"
    },
    {
      "cell_type": "code",
      "execution_count": 855,
      "metadata": {
        "colab": {
          "base_uri": "https://localhost:8080/",
          "height": 265
        },
        "id": "06c14c77",
        "outputId": "8123b0dd-9894-425c-b09c-244dfcda060f"
      },
      "outputs": [
        {
          "output_type": "execute_result",
          "data": {
            "text/plain": [
              "<matplotlib.axes._subplots.AxesSubplot at 0x7efcc9ad6cd0>"
            ]
          },
          "metadata": {},
          "execution_count": 855
        },
        {
          "output_type": "display_data",
          "data": {
            "text/plain": [
              "<Figure size 432x288 with 1 Axes>"
            ],
            "image/png": "[encoded data removed]"
          },
          "metadata": {}
        }
      ],
      "source": [
        "df['ship_mode'].value_counts().plot.pie()\n",
        "\n",
        "#круговая диаграмма показывает, что чаще всего заказы доставляются с помощью стандартного класса"
      ],
      "id": "06c14c77"
    },
    {
      "cell_type": "markdown",
      "metadata": {
        "id": "0cfe70ba"
      },
      "source": [
        "## Вопрос 4: общая прибыль и убытки в 2011-2014 годах"
      ],
      "id": "0cfe70ba"
    },
    {
      "cell_type": "code",
      "execution_count": 856,
      "metadata": {
        "colab": {
          "base_uri": "https://localhost:8080/"
        },
        "id": "6b52e346",
        "outputId": "dac76828-b00a-4234-e67e-3c733d3e7f47"
      },
      "outputs": [
        {
          "output_type": "execute_result",
          "data": {
            "text/plain": [
              "((12543, 21), (38079, 21))"
            ]
          },
          "metadata": {},
          "execution_count": 856
        }
      ],
      "source": [
        "df_profit=df[df['profit'] > 0]\n",
        "df_loss=df[df['profit'] < 0]\n",
        "df_loss.shape, df_profit.shape\n",
        "#определяем прибыль и убытки, распределяя их в разные датафреймы и смотрим количество внутри"
      ],
      "id": "6b52e346"
    },
    {
      "cell_type": "code",
      "execution_count": 857,
      "metadata": {
        "colab": {
          "base_uri": "https://localhost:8080/"
        },
        "id": "676b63ec",
        "outputId": "def4eadd-c902-4bbb-c821-667015087235"
      },
      "outputs": [
        {
          "output_type": "execute_result",
          "data": {
            "text/plain": [
              "2389392.212"
            ]
          },
          "metadata": {},
          "execution_count": 857
        }
      ],
      "source": [
        "#рассчитываем общую прибыль\n",
        "Total_Profit = df_profit['profit'].sum()\n",
        "Total_Profit"
      ],
      "id": "676b63ec"
    },
    {
      "cell_type": "code",
      "execution_count": 858,
      "metadata": {
        "colab": {
          "base_uri": "https://localhost:8080/"
        },
        "id": "955965d1",
        "outputId": "55d2a4bc-0a29-42c2-d99d-67cff467a95a"
      },
      "outputs": [
        {
          "output_type": "execute_result",
          "data": {
            "text/plain": [
              "920357.39072"
            ]
          },
          "metadata": {},
          "execution_count": 858
        }
      ],
      "source": [
        "#рассчитываем убытки, округляя до 2 знаков после запятой\n",
        "Total_loss=np.negative(df_loss['profit'].sum())\n",
        "Total_loss"
      ],
      "id": "955965d1"
    },
    {
      "cell_type": "code",
      "execution_count": 859,
      "metadata": {
        "colab": {
          "base_uri": "https://localhost:8080/"
        },
        "id": "0de05805",
        "outputId": "7aea85ad-c7fd-452a-8263-b1e6409c24d5"
      },
      "outputs": [
        {
          "output_type": "execute_result",
          "data": {
            "text/plain": [
              "1469034.8212799998"
            ]
          },
          "metadata": {},
          "execution_count": 859
        }
      ],
      "source": [
        "#расчитаем доход\n",
        "Net_Profit = Total_Profit - Total_loss\n",
        "Net_Profit"
      ],
      "id": "0de05805"
    },
    {
      "cell_type": "code",
      "execution_count": 860,
      "metadata": {
        "colab": {
          "base_uri": "https://localhost:8080/",
          "height": 295
        },
        "id": "ee9670b3",
        "outputId": "169e96fc-df3e-47a3-9379-2c299ea34163"
      },
      "outputs": [
        {
          "output_type": "execute_result",
          "data": {
            "text/plain": [
              "<matplotlib.axes._subplots.AxesSubplot at 0x7efcc9a56670>"
            ]
          },
          "metadata": {},
          "execution_count": 860
        },
        {
          "output_type": "display_data",
          "data": {
            "text/plain": [
              "<Figure size 432x288 with 1 Axes>"
            ],
            "image/png": "[encoded data removed]"
          },
          "metadata": {
            "needs_background": "light"
          }
        }
      ],
      "source": [
        "#визуализируем результат\n",
        "df_Net_Profit=pd.DataFrame({'Total_Profit': {0: 2389392},\n",
        "                            'Total_loss':{0: 920357},\n",
        "                            '         ':{0: '='},\n",
        "                            'Net_Profit':{0: 1469035}})\n",
        "df_Net_Profit.plot(kind='barh')"
      ],
      "id": "ee9670b3"
    },
    {
      "cell_type": "markdown",
      "metadata": {
        "id": "461a9b2a"
      },
      "source": [
        "#Продвинутая визуализация"
      ],
      "id": "461a9b2a"
    },
    {
      "cell_type": "code",
      "execution_count": 861,
      "metadata": {
        "colab": {
          "base_uri": "https://localhost:8080/",
          "height": 388
        },
        "id": "1b034139",
        "outputId": "be4b9635-99f7-4954-c065-9d5ab10e316f"
      },
      "outputs": [
        {
          "output_type": "display_data",
          "data": {
            "text/plain": [
              "<Figure size 720x432 with 1 Axes>"
            ],
            "image/png": "[encoded data removed]"
          },
          "metadata": {
            "needs_background": "light"
          }
        }
      ],
      "source": [
        "#посмотрим связь между продажами и доходом с помощью графика рассеивания\n",
        "fig, ax = plt.subplots(figsize = (10 , 6))\n",
        "ax.scatter(df_profit[\"sales\"] , df_profit[\"profit\"])\n",
        "ax.set_xlabel('Sales')\n",
        "ax.set_ylabel('Profit')\n",
        "plt.show()\n",
        "\n",
        "#судя по графику, яркой связи нет"
      ],
      "id": "1b034139"
    },
    {
      "cell_type": "code",
      "execution_count": 862,
      "metadata": {
        "colab": {
          "base_uri": "https://localhost:8080/",
          "height": 399
        },
        "id": "_Jl58qUwBeRA",
        "outputId": "1853051b-4a38-4cf2-cc2d-6f085fda7d9e"
      },
      "outputs": [
        {
          "output_type": "execute_result",
          "data": {
            "text/plain": [
              "<matplotlib.axes._subplots.AxesSubplot at 0x7efcc8c747c0>"
            ]
          },
          "metadata": {},
          "execution_count": 862
        },
        {
          "output_type": "display_data",
          "data": {
            "text/plain": [
              "<Figure size 360x360 with 2 Axes>"
            ],
            "image/png": "[encoded data removed]"
          },
          "metadata": {
            "needs_background": "light"
          }
        }
      ],
      "source": [
        "#строим корреляционную матрицу\n",
        "\n",
        "correlation = df_num.corr()\n",
        "fig , ax = plt.subplots(figsize = (5,5))\n",
        "sns.heatmap(correlation, \n",
        "            linewidths=0.1, annot=True,cmap='viridis',\n",
        "            linecolor=\"black\", annot_kws = {'size':10})\n",
        "\n",
        "#результаты корреляционной матрицы показывают, что нет значений с сильной зависимостью, максимальный коэффициент детерминации = 0.36 и показывает слабую степерь корреляции"
      ],
      "id": "_Jl58qUwBeRA"
    },
    {
      "cell_type": "code",
      "execution_count": 863,
      "metadata": {
        "colab": {
          "base_uri": "https://localhost:8080/",
          "height": 823
        },
        "id": "6zPcXJ8gW1mN",
        "outputId": "0e1f33fe-758e-4c8b-c4ff-3b06364887d0"
      },
      "outputs": [
        {
          "output_type": "execute_result",
          "data": {
            "text/plain": [
              "Text(0.5, 0.98, 'Диаграммы для количественных переменных')"
            ]
          },
          "metadata": {},
          "execution_count": 863
        },
        {
          "output_type": "display_data",
          "data": {
            "text/plain": [
              "<Figure size 2160x1080 with 4 Axes>"
            ],
            "image/png": "[encoded data removed]"
          },
          "metadata": {
            "needs_background": "light"
          }
        }
      ],
      "source": [
        "#Построим графики  для ряда количественных переменных, чтобы визуально оценить наличие выбросов\n",
        "#брать 'year' не будем, так как там не может быть выборосов\n",
        "\n",
        "fig, ax = plt.subplots(2,2, figsize=(30,15))\n",
        "\n",
        "violin_target = ax[0][0].violinplot(df_num['quantity'],vert=False)\n",
        "violin_target = ax[0][1].violinplot(df_num['discount'],vert=False)\n",
        "violin_target = ax[1][0].violinplot(df_num['profit'],vert=False)\n",
        "violin_target = ax[1][1].violinplot(df_num['shipping_cost'],vert=False)\n",
        "\n",
        "for vp in violin_target['bodies']:\n",
        "    vp.set_linewidth(1)\n",
        "    vp.set_alpha(0.5)\n",
        "\n",
        "ax[0][0].legend(df_num['quantity'],frameon=False)\n",
        "ax[0][1].legend(df_num['discount'],frameon=False)\n",
        "ax[1][0].legend(df_num['profit'],frameon=False)\n",
        "ax[1][1].legend(df_num['shipping_cost'],frameon=False)\n",
        "\n",
        "fig.suptitle('Диаграммы для количественных переменных')\n",
        "\n",
        "#графики показывают, что данные 'quantity' и 'discount' не подразумевают выбросов, поэтому дальше для выбросов можно поверить оставшиеся 2 значения, у которых визуально есть выбросы"
      ],
      "id": "6zPcXJ8gW1mN"
    },
    {
      "cell_type": "markdown",
      "metadata": {
        "id": "ec-MNTEPZ6xZ"
      },
      "source": [
        "#Выбросы"
      ],
      "id": "ec-MNTEPZ6xZ"
    },
    {
      "cell_type": "code",
      "execution_count": 864,
      "metadata": {
        "colab": {
          "base_uri": "https://localhost:8080/"
        },
        "id": "msxb8mZMZ9nz",
        "outputId": "01238b77-8740-46e2-991d-d279c2352920"
      },
      "outputs": [
        {
          "output_type": "stream",
          "name": "stdout",
          "text": [
            "-494.630599406247 551.9140784969079\n"
          ]
        }
      ],
      "source": [
        "#рассчитаем выбросы для категории 'profit' \n",
        "mean_df_num = df_num['profit'].mean()\n",
        "std_df_num = df_num['profit'].std()\n",
        "std_threshold_bottom_df_num = mean_df_num - 3 * std_df_num\n",
        "std_threshold_top_df_num = mean_df_num + 3 * std_df_num\n",
        "print(std_threshold_bottom_df_num, std_threshold_top_df_num)"
      ],
      "id": "msxb8mZMZ9nz"
    },
    {
      "cell_type": "code",
      "execution_count": 865,
      "metadata": {
        "colab": {
          "base_uri": "https://localhost:8080/"
        },
        "id": "RYieEWvN4xaG",
        "outputId": "e5255619-5aaf-459e-ef84-1ed4133164ab"
      },
      "outputs": [
        {
          "output_type": "execute_result",
          "data": {
            "text/plain": [
              "(51290, 6)"
            ]
          },
          "metadata": {},
          "execution_count": 865
        }
      ],
      "source": [
        "df_num.shape"
      ],
      "id": "RYieEWvN4xaG"
    },
    {
      "cell_type": "code",
      "execution_count": 866,
      "metadata": {
        "colab": {
          "base_uri": "https://localhost:8080/"
        },
        "id": "O7QvNrZaamr7",
        "outputId": "111cce0e-68fb-40de-b587-2b29a95f7857"
      },
      "outputs": [
        {
          "output_type": "execute_result",
          "data": {
            "text/plain": [
              "(579, 6)"
            ]
          },
          "metadata": {},
          "execution_count": 866
        }
      ],
      "source": [
        "#проверяем выбросов по переменной по верхней границе\n",
        "df_num[df_num['profit'] > std_threshold_top_df_num].shape\n",
        "\n",
        "#всего 579 выбросов"
      ],
      "id": "O7QvNrZaamr7"
    },
    {
      "cell_type": "code",
      "execution_count": 867,
      "metadata": {
        "colab": {
          "base_uri": "https://localhost:8080/"
        },
        "id": "LEp6WQt_eDsP",
        "outputId": "143d3b56-8290-4e71-d1ac-f03876640c91"
      },
      "outputs": [
        {
          "output_type": "execute_result",
          "data": {
            "text/plain": [
              "(287, 6)"
            ]
          },
          "metadata": {},
          "execution_count": 867
        }
      ],
      "source": [
        "#проверяем выбросы по переменной по нижней границе\n",
        "df_num[df_num['profit'] < std_threshold_bottom_df_num].shape\n",
        "\n",
        "#всего 287 выбросов"
      ],
      "id": "LEp6WQt_eDsP"
    },
    {
      "cell_type": "code",
      "execution_count": 868,
      "metadata": {
        "colab": {
          "base_uri": "https://localhost:8080/"
        },
        "id": "tB0yKaQJe8Bg",
        "outputId": "b0c655ec-bc24-40bc-9f44-4b0a58eab023"
      },
      "outputs": [
        {
          "output_type": "execute_result",
          "data": {
            "text/plain": [
              "(50711, 6)"
            ]
          },
          "metadata": {},
          "execution_count": 868
        }
      ],
      "source": [
        "#ограничиваем датасет сверху \n",
        "\n",
        "df_num = df_num[df_num['profit'] < std_threshold_top_df_num]\n",
        "df_num.shape"
      ],
      "id": "tB0yKaQJe8Bg"
    },
    {
      "cell_type": "code",
      "execution_count": 869,
      "metadata": {
        "colab": {
          "base_uri": "https://localhost:8080/"
        },
        "id": "ccv7KcJK4Up0",
        "outputId": "47385d71-8eef-43f5-e654-1a599c79e5b4"
      },
      "outputs": [
        {
          "output_type": "execute_result",
          "data": {
            "text/plain": [
              "(50424, 6)"
            ]
          },
          "metadata": {},
          "execution_count": 869
        }
      ],
      "source": [
        "#ограничиваем датасет снизу \n",
        "df_num = df_num[df_num['profit'] > std_threshold_bottom_df_num]\n",
        "df_num.shape"
      ],
      "id": "ccv7KcJK4Up0"
    },
    {
      "cell_type": "code",
      "execution_count": 870,
      "metadata": {
        "colab": {
          "base_uri": "https://localhost:8080/"
        },
        "id": "1c5cw6-KeYwp",
        "outputId": "d0e3dee7-0c8b-41c1-bd9f-478d983903cd"
      },
      "outputs": [
        {
          "output_type": "stream",
          "name": "stdout",
          "text": [
            "-117.4005649637887 163.70920926015552\n"
          ]
        }
      ],
      "source": [
        "#рассчитаем выбросы для категории 'shipping_cost' \n",
        "\n",
        "mean_df_num = df_num['shipping_cost'].mean()\n",
        "std_df_num = df_num['shipping_cost'].std()\n",
        "std_threshold_bottom_df_num = mean_df_num - 3 * std_df_num\n",
        "std_threshold_top_df_num = mean_df_num + 3 * std_df_num\n",
        "print(std_threshold_bottom_df_num, std_threshold_top_df_num)"
      ],
      "id": "1c5cw6-KeYwp"
    },
    {
      "cell_type": "code",
      "execution_count": 871,
      "metadata": {
        "id": "ABOxx-CweYzI"
      },
      "outputs": [],
      "source": [
        "#проверяем выбросов по переменной по верхней границе\n",
        "#по нижней границе проверять не будем, так как отрицательной скидка не бывает, а наша нижняя граница отрицательная\n",
        "#и сразу перезаписываем датасет\n",
        "\n",
        "df_num = df_num[df_num['shipping_cost'] > std_threshold_top_df_num]\n",
        "\n",
        "#всего 1024 выбросa"
      ],
      "id": "ABOxx-CweYzI"
    },
    {
      "cell_type": "code",
      "execution_count": 872,
      "metadata": {
        "colab": {
          "base_uri": "https://localhost:8080/",
          "height": 404
        },
        "id": "8nMYwEiXACtl",
        "outputId": "0332875f-f3a6-4e10-b779-05871a504f7e"
      },
      "outputs": [
        {
          "output_type": "execute_result",
          "data": {
            "text/plain": [
              "{'whiskers': [<matplotlib.lines.Line2D at 0x7efcce86a130>,\n",
              "  <matplotlib.lines.Line2D at 0x7efcce86a190>],\n",
              " 'caps': [<matplotlib.lines.Line2D at 0x7efcce86ab80>,\n",
              "  <matplotlib.lines.Line2D at 0x7efccdcad970>],\n",
              " 'boxes': [<matplotlib.lines.Line2D at 0x7efcce86a730>],\n",
              " 'medians': [<matplotlib.lines.Line2D at 0x7efccdcade50>],\n",
              " 'fliers': [<matplotlib.lines.Line2D at 0x7efccdcad520>],\n",
              " 'means': []}"
            ]
          },
          "metadata": {},
          "execution_count": 872
        },
        {
          "output_type": "display_data",
          "data": {
            "text/plain": [
              "<Figure size 432x288 with 2 Axes>"
            ],
            "image/png": "[encoded data removed]"
          },
          "metadata": {
            "needs_background": "light"
          }
        }
      ],
      "source": [
        "#после ограничения данных у нас должны остаться датасеты без выбросов\n",
        "#построим графики \"ящик с усами\" для всех количественных переменных, чтобы визуально оценить отсутствие выбросов\n",
        "\n",
        "fig, axs = plt.subplots(2)\n",
        "axs[0].boxplot(df_num['profit'], vert = False)\n",
        "axs[1].boxplot(df_num['shipping_cost'], vert = False)"
      ],
      "id": "8nMYwEiXACtl"
    },
    {
      "cell_type": "markdown",
      "metadata": {
        "id": "en2SIxImRiwj"
      },
      "source": [
        "#Тестирование гипотез\n",
        "\n",
        "\n"
      ],
      "id": "en2SIxImRiwj"
    },
    {
      "cell_type": "markdown",
      "metadata": {
        "id": "jw8yWDDl45Gw"
      },
      "source": [
        "###Непараметрический критерий: хи-квадрат"
      ],
      "id": "jw8yWDDl45Gw"
    },
    {
      "cell_type": "code",
      "execution_count": 873,
      "metadata": {
        "id": "3qb0tir2uRQs"
      },
      "outputs": [],
      "source": [
        "#сгруппируем данные \"profit\"\n",
        "\n",
        "def get_profit_cut(profit):\n",
        "    if profit > 0:\n",
        "        return 1\n",
        "    else:\n",
        "        return 0"
      ],
      "id": "3qb0tir2uRQs"
    },
    {
      "cell_type": "code",
      "execution_count": 874,
      "metadata": {
        "colab": {
          "base_uri": "https://localhost:8080/",
          "height": 112
        },
        "id": "G8EGaCAcuyUK",
        "outputId": "e04c96c8-e08a-4536-8179-2a1a1b0cdb48"
      },
      "outputs": [
        {
          "output_type": "execute_result",
          "data": {
            "text/plain": [
              "    sales  quantity  discount   profit  shipping_cost  year  profit_cat\n",
              "83  2,479         6    0.0000  49.5000       349.8700  2011           1\n",
              "84  2,174         7    0.0000 260.8200       275.5200  2011           1"
            ],
            "text/html": [
              "\n",
              "  <div id=\"df-93cf9343-cf9f-477f-a9b3-a0dd5e190f2f\">\n",
              "    <div class=\"colab-df-container\">\n",
              "      <div>\n",
              "<style scoped>\n",
              "    .dataframe tbody tr th:only-of-type {\n",
              "        vertical-align: middle;\n",
              "    }\n",
              "\n",
              "    .dataframe tbody tr th {\n",
              "        vertical-align: top;\n",
              "    }\n",
              "\n",
              "    .dataframe thead th {\n",
              "        text-align: right;\n",
              "    }\n",
              "</style>\n",
              "<table border=\"1\" class=\"dataframe\">\n",
              "  <thead>\n",
              "    <tr style=\"text-align: right;\">\n",
              "      <th></th>\n",
              "      <th>sales</th>\n",
              "      <th>quantity</th>\n",
              "      <th>discount</th>\n",
              "      <th>profit</th>\n",
              "      <th>shipping_cost</th>\n",
              "      <th>year</th>\n",
              "      <th>profit_cat</th>\n",
              "    </tr>\n",
              "  </thead>\n",
              "  <tbody>\n",
              "    <tr>\n",
              "      <th>83</th>\n",
              "      <td>2,479</td>\n",
              "      <td>6</td>\n",
              "      <td>0.0000</td>\n",
              "      <td>49.5000</td>\n",
              "      <td>349.8700</td>\n",
              "      <td>2011</td>\n",
              "      <td>1</td>\n",
              "    </tr>\n",
              "    <tr>\n",
              "      <th>84</th>\n",
              "      <td>2,174</td>\n",
              "      <td>7</td>\n",
              "      <td>0.0000</td>\n",
              "      <td>260.8200</td>\n",
              "      <td>275.5200</td>\n",
              "      <td>2011</td>\n",
              "      <td>1</td>\n",
              "    </tr>\n",
              "  </tbody>\n",
              "</table>\n",
              "</div>\n",
              "      <button class=\"colab-df-convert\" onclick=\"convertToInteractive('df-93cf9343-cf9f-477f-a9b3-a0dd5e190f2f')\"\n",
              "              title=\"Convert this dataframe to an interactive table.\"\n",
              "              style=\"display:none;\">\n",
              "        \n",
              "  <svg xmlns=\"http://www.w3.org/2000/svg\" height=\"24px\"viewBox=\"0 0 24 24\"\n",
              "       width=\"24px\">\n",
              "    <path d=\"M0 0h24v24H0V0z\" fill=\"none\"/>\n",
              "    <path d=\"M18.56 5.44l.94 2.06.94-2.06 2.06-.94-2.06-.94-.94-2.06-.94 2.06-2.06.94zm-11 1L8.5 8.5l.94-2.06 2.06-.94-2.06-.94L8.5 2.5l-.94 2.06-2.06.94zm10 10l.94 2.06.94-2.06 2.06-.94-2.06-.94-.94-2.06-.94 2.06-2.06.94z\"/><path d=\"M17.41 7.96l-1.37-1.37c-.4-.4-.92-.59-1.43-.59-.52 0-1.04.2-1.43.59L10.3 9.45l-7.72 7.72c-.78.78-.78 2.05 0 2.83L4 21.41c.39.39.9.59 1.41.59.51 0 1.02-.2 1.41-.59l7.78-7.78 2.81-2.81c.8-.78.8-2.07 0-2.86zM5.41 20L4 18.59l7.72-7.72 1.47 1.35L5.41 20z\"/>\n",
              "  </svg>\n",
              "      </button>\n",
              "      \n",
              "  <style>\n",
              "    .colab-df-container {\n",
              "      display:flex;\n",
              "      flex-wrap:wrap;\n",
              "      gap: 12px;\n",
              "    }\n",
              "\n",
              "    .colab-df-convert {\n",
              "      background-color: #E8F0FE;\n",
              "      border: none;\n",
              "      border-radius: 50%;\n",
              "      cursor: pointer;\n",
              "      display: none;\n",
              "      fill: #1967D2;\n",
              "      height: 32px;\n",
              "      padding: 0 0 0 0;\n",
              "      width: 32px;\n",
              "    }\n",
              "\n",
              "    .colab-df-convert:hover {\n",
              "      background-color: #E2EBFA;\n",
              "      box-shadow: 0px 1px 2px rgba(60, 64, 67, 0.3), 0px 1px 3px 1px rgba(60, 64, 67, 0.15);\n",
              "      fill: #174EA6;\n",
              "    }\n",
              "\n",
              "    [theme=dark] .colab-df-convert {\n",
              "      background-color: #3B4455;\n",
              "      fill: #D2E3FC;\n",
              "    }\n",
              "\n",
              "    [theme=dark] .colab-df-convert:hover {\n",
              "      background-color: #434B5C;\n",
              "      box-shadow: 0px 1px 3px 1px rgba(0, 0, 0, 0.15);\n",
              "      filter: drop-shadow(0px 1px 2px rgba(0, 0, 0, 0.3));\n",
              "      fill: #FFFFFF;\n",
              "    }\n",
              "  </style>\n",
              "\n",
              "      <script>\n",
              "        const buttonEl =\n",
              "          document.querySelector('#df-93cf9343-cf9f-477f-a9b3-a0dd5e190f2f button.colab-df-convert');\n",
              "        buttonEl.style.display =\n",
              "          google.colab.kernel.accessAllowed ? 'block' : 'none';\n",
              "\n",
              "        async function convertToInteractive(key) {\n",
              "          const element = document.querySelector('#df-93cf9343-cf9f-477f-a9b3-a0dd5e190f2f');\n",
              "          const dataTable =\n",
              "            await google.colab.kernel.invokeFunction('convertToInteractive',\n",
              "                                                     [key], {});\n",
              "          if (!dataTable) return;\n",
              "\n",
              "          const docLinkHtml = 'Like what you see? Visit the ' +\n",
              "            '<a target=\"_blank\" href=https://colab.research.google.com/notebooks/data_table.ipynb>data table notebook</a>'\n",
              "            + ' to learn more about interactive tables.';\n",
              "          element.innerHTML = '';\n",
              "          dataTable['output_type'] = 'display_data';\n",
              "          await google.colab.output.renderOutput(dataTable, element);\n",
              "          const docLink = document.createElement('div');\n",
              "          docLink.innerHTML = docLinkHtml;\n",
              "          element.appendChild(docLink);\n",
              "        }\n",
              "      </script>\n",
              "    </div>\n",
              "  </div>\n",
              "  "
            ]
          },
          "metadata": {},
          "execution_count": 874
        }
      ],
      "source": [
        "df_num['profit_cat'] = df_num['profit'].apply(get_profit_cut)\n",
        "df_num[:2]"
      ],
      "id": "G8EGaCAcuyUK"
    },
    {
      "cell_type": "markdown",
      "metadata": {
        "id": "Euec6xWvw9J_"
      },
      "source": [
        "####Н0"
      ],
      "id": "Euec6xWvw9J_"
    },
    {
      "cell_type": "code",
      "execution_count": 875,
      "metadata": {
        "colab": {
          "base_uri": "https://localhost:8080/",
          "height": 206
        },
        "id": "LUy2PdDCvfok",
        "outputId": "8468527e-93e0-4922-a9bd-3f8439c8f81a"
      },
      "outputs": [
        {
          "output_type": "execute_result",
          "data": {
            "text/plain": [
              "profit_cat   0    1\n",
              "year               \n",
              "2011        28  147\n",
              "2012        40  171\n",
              "2013        47  228\n",
              "2014        58  305"
            ],
            "text/html": [
              "\n",
              "  <div id=\"df-e3b1f614-ff1e-4512-ad71-0a1c341e6043\">\n",
              "    <div class=\"colab-df-container\">\n",
              "      <div>\n",
              "<style scoped>\n",
              "    .dataframe tbody tr th:only-of-type {\n",
              "        vertical-align: middle;\n",
              "    }\n",
              "\n",
              "    .dataframe tbody tr th {\n",
              "        vertical-align: top;\n",
              "    }\n",
              "\n",
              "    .dataframe thead th {\n",
              "        text-align: right;\n",
              "    }\n",
              "</style>\n",
              "<table border=\"1\" class=\"dataframe\">\n",
              "  <thead>\n",
              "    <tr style=\"text-align: right;\">\n",
              "      <th>profit_cat</th>\n",
              "      <th>0</th>\n",
              "      <th>1</th>\n",
              "    </tr>\n",
              "    <tr>\n",
              "      <th>year</th>\n",
              "      <th></th>\n",
              "      <th></th>\n",
              "    </tr>\n",
              "  </thead>\n",
              "  <tbody>\n",
              "    <tr>\n",
              "      <th>2011</th>\n",
              "      <td>28</td>\n",
              "      <td>147</td>\n",
              "    </tr>\n",
              "    <tr>\n",
              "      <th>2012</th>\n",
              "      <td>40</td>\n",
              "      <td>171</td>\n",
              "    </tr>\n",
              "    <tr>\n",
              "      <th>2013</th>\n",
              "      <td>47</td>\n",
              "      <td>228</td>\n",
              "    </tr>\n",
              "    <tr>\n",
              "      <th>2014</th>\n",
              "      <td>58</td>\n",
              "      <td>305</td>\n",
              "    </tr>\n",
              "  </tbody>\n",
              "</table>\n",
              "</div>\n",
              "      <button class=\"colab-df-convert\" onclick=\"convertToInteractive('df-e3b1f614-ff1e-4512-ad71-0a1c341e6043')\"\n",
              "              title=\"Convert this dataframe to an interactive table.\"\n",
              "              style=\"display:none;\">\n",
              "        \n",
              "  <svg xmlns=\"http://www.w3.org/2000/svg\" height=\"24px\"viewBox=\"0 0 24 24\"\n",
              "       width=\"24px\">\n",
              "    <path d=\"M0 0h24v24H0V0z\" fill=\"none\"/>\n",
              "    <path d=\"M18.56 5.44l.94 2.06.94-2.06 2.06-.94-2.06-.94-.94-2.06-.94 2.06-2.06.94zm-11 1L8.5 8.5l.94-2.06 2.06-.94-2.06-.94L8.5 2.5l-.94 2.06-2.06.94zm10 10l.94 2.06.94-2.06 2.06-.94-2.06-.94-.94-2.06-.94 2.06-2.06.94z\"/><path d=\"M17.41 7.96l-1.37-1.37c-.4-.4-.92-.59-1.43-.59-.52 0-1.04.2-1.43.59L10.3 9.45l-7.72 7.72c-.78.78-.78 2.05 0 2.83L4 21.41c.39.39.9.59 1.41.59.51 0 1.02-.2 1.41-.59l7.78-7.78 2.81-2.81c.8-.78.8-2.07 0-2.86zM5.41 20L4 18.59l7.72-7.72 1.47 1.35L5.41 20z\"/>\n",
              "  </svg>\n",
              "      </button>\n",
              "      \n",
              "  <style>\n",
              "    .colab-df-container {\n",
              "      display:flex;\n",
              "      flex-wrap:wrap;\n",
              "      gap: 12px;\n",
              "    }\n",
              "\n",
              "    .colab-df-convert {\n",
              "      background-color: #E8F0FE;\n",
              "      border: none;\n",
              "      border-radius: 50%;\n",
              "      cursor: pointer;\n",
              "      display: none;\n",
              "      fill: #1967D2;\n",
              "      height: 32px;\n",
              "      padding: 0 0 0 0;\n",
              "      width: 32px;\n",
              "    }\n",
              "\n",
              "    .colab-df-convert:hover {\n",
              "      background-color: #E2EBFA;\n",
              "      box-shadow: 0px 1px 2px rgba(60, 64, 67, 0.3), 0px 1px 3px 1px rgba(60, 64, 67, 0.15);\n",
              "      fill: #174EA6;\n",
              "    }\n",
              "\n",
              "    [theme=dark] .colab-df-convert {\n",
              "      background-color: #3B4455;\n",
              "      fill: #D2E3FC;\n",
              "    }\n",
              "\n",
              "    [theme=dark] .colab-df-convert:hover {\n",
              "      background-color: #434B5C;\n",
              "      box-shadow: 0px 1px 3px 1px rgba(0, 0, 0, 0.15);\n",
              "      filter: drop-shadow(0px 1px 2px rgba(0, 0, 0, 0.3));\n",
              "      fill: #FFFFFF;\n",
              "    }\n",
              "  </style>\n",
              "\n",
              "      <script>\n",
              "        const buttonEl =\n",
              "          document.querySelector('#df-e3b1f614-ff1e-4512-ad71-0a1c341e6043 button.colab-df-convert');\n",
              "        buttonEl.style.display =\n",
              "          google.colab.kernel.accessAllowed ? 'block' : 'none';\n",
              "\n",
              "        async function convertToInteractive(key) {\n",
              "          const element = document.querySelector('#df-e3b1f614-ff1e-4512-ad71-0a1c341e6043');\n",
              "          const dataTable =\n",
              "            await google.colab.kernel.invokeFunction('convertToInteractive',\n",
              "                                                     [key], {});\n",
              "          if (!dataTable) return;\n",
              "\n",
              "          const docLinkHtml = 'Like what you see? Visit the ' +\n",
              "            '<a target=\"_blank\" href=https://colab.research.google.com/notebooks/data_table.ipynb>data table notebook</a>'\n",
              "            + ' to learn more about interactive tables.';\n",
              "          element.innerHTML = '';\n",
              "          dataTable['output_type'] = 'display_data';\n",
              "          await google.colab.output.renderOutput(dataTable, element);\n",
              "          const docLink = document.createElement('div');\n",
              "          docLink.innerHTML = docLinkHtml;\n",
              "          element.appendChild(docLink);\n",
              "        }\n",
              "      </script>\n",
              "    </div>\n",
              "  </div>\n",
              "  "
            ]
          },
          "metadata": {},
          "execution_count": 875
        }
      ],
      "source": [
        "#строим таблицу сопряженности. нелевая гипотеза — гипотеза об отсутствии зависимости. предположим, что от года к году какой-то прошлый опыт никак не влиял на нашу прибыль\n",
        "\n",
        "ct_o = df_num.groupby('year')['profit_cat'].value_counts().unstack()\n",
        "ct_o"
      ],
      "id": "LUy2PdDCvfok"
    },
    {
      "cell_type": "code",
      "execution_count": 876,
      "metadata": {
        "id": "caHIFmYnSQ-7"
      },
      "outputs": [],
      "source": [
        "alpha = 0.01\n",
        "#берем вероятность ошибки первого рода в 1%\n",
        "dof = (4-1)*(2-1)\n",
        "dof = 3\n",
        "\n",
        "critical_value = 11.3 \n",
        "#по таблице распределения хи-квадрат"
      ],
      "id": "caHIFmYnSQ-7"
    },
    {
      "cell_type": "code",
      "execution_count": 877,
      "metadata": {
        "id": "EIdD0--kzG9e"
      },
      "outputs": [],
      "source": [
        "n_total = ct_o.sum().sum()\n",
        "\n",
        "#получили количество наблюдений и посчитаем теоретические частоты"
      ],
      "id": "EIdD0--kzG9e"
    },
    {
      "cell_type": "code",
      "execution_count": 878,
      "metadata": {
        "id": "4jg__Ygoyspl"
      },
      "outputs": [],
      "source": [
        "f_e_2011_0 = ct_o[0].sum() * ct_o.iloc[0].sum() / n_total"
      ],
      "id": "4jg__Ygoyspl"
    },
    {
      "cell_type": "code",
      "execution_count": 879,
      "metadata": {
        "id": "VBA2r3aSzeg3"
      },
      "outputs": [],
      "source": [
        "f_e_2012_0 = ct_o[0].sum() * ct_o.iloc[1].sum() / n_total"
      ],
      "id": "VBA2r3aSzeg3"
    },
    {
      "cell_type": "code",
      "execution_count": 880,
      "metadata": {
        "id": "An2bex0oz7sn"
      },
      "outputs": [],
      "source": [
        "f_e_2013_0 = ct_o[0].sum() * ct_o.iloc[2].sum() / n_total"
      ],
      "id": "An2bex0oz7sn"
    },
    {
      "cell_type": "code",
      "execution_count": 881,
      "metadata": {
        "id": "EwED36Asz9Nn"
      },
      "outputs": [],
      "source": [
        "f_e_2014_0 = ct_o[0].sum() * ct_o.iloc[3].sum() / n_total"
      ],
      "id": "EwED36Asz9Nn"
    },
    {
      "cell_type": "code",
      "execution_count": 882,
      "metadata": {
        "id": "mPwAikJ4zh3I"
      },
      "outputs": [],
      "source": [
        "f_e_2011_1 = ct_o[1].sum() * ct_o.iloc[0].sum() / n_total"
      ],
      "id": "mPwAikJ4zh3I"
    },
    {
      "cell_type": "code",
      "execution_count": 883,
      "metadata": {
        "id": "EF15wdBqzku8"
      },
      "outputs": [],
      "source": [
        "f_e_2012_1 = ct_o[1].sum() * ct_o.iloc[1].sum() / n_total"
      ],
      "id": "EF15wdBqzku8"
    },
    {
      "cell_type": "code",
      "execution_count": 884,
      "metadata": {
        "id": "q-cOk4c3z4_k"
      },
      "outputs": [],
      "source": [
        "f_e_2013_1 = ct_o[1].sum() * ct_o.iloc[2].sum() / n_total"
      ],
      "id": "q-cOk4c3z4_k"
    },
    {
      "cell_type": "code",
      "execution_count": 885,
      "metadata": {
        "id": "Z6G0wiFQ0EgD"
      },
      "outputs": [],
      "source": [
        "f_e_2014_1 = ct_o[1].sum() * ct_o.iloc[3].sum() / n_total"
      ],
      "id": "Z6G0wiFQ0EgD"
    },
    {
      "cell_type": "code",
      "execution_count": 886,
      "metadata": {
        "colab": {
          "base_uri": "https://localhost:8080/"
        },
        "id": "IJUF3pVQ1BjX",
        "outputId": "e87aef73-1966-4fde-9955-52f10d350c93"
      },
      "outputs": [
        {
          "output_type": "execute_result",
          "data": {
            "text/plain": [
              "array([[ 29.56542969, 145.43457031],\n",
              "       [ 35.64746094, 175.35253906],\n",
              "       [ 46.45996094, 228.54003906],\n",
              "       [ 61.32714844, 301.67285156]])"
            ]
          },
          "metadata": {},
          "execution_count": 886
        }
      ],
      "source": [
        "#собираем все в матрицу\n",
        "\n",
        "ct_e = np.array([[f_e_2011_0, f_e_2011_1],\n",
        "                 [f_e_2012_0, f_e_2012_1],\n",
        "                 [f_e_2013_0, f_e_2013_1],\n",
        "                 [f_e_2014_0, f_e_2014_1]])\n",
        "ct_e"
      ],
      "id": "IJUF3pVQ1BjX"
    },
    {
      "cell_type": "code",
      "execution_count": 887,
      "metadata": {
        "id": "evweppFU1iN9"
      },
      "outputs": [],
      "source": [
        "chi_square = ((ct_o - ct_e)**2 / ct_e).sum().sum()"
      ],
      "id": "evweppFU1iN9"
    },
    {
      "cell_type": "code",
      "execution_count": 888,
      "metadata": {
        "colab": {
          "base_uri": "https://localhost:8080/"
        },
        "id": "_5Uga07AwiRd",
        "outputId": "0b5188f2-1977-47d4-f357-4e01c9f6b7b9"
      },
      "outputs": [
        {
          "output_type": "execute_result",
          "data": {
            "text/plain": [
              "False"
            ]
          },
          "metadata": {},
          "execution_count": 888
        }
      ],
      "source": [
        "chi_square > critical_value\n",
        "\n",
        "#гипотеза не подтвердилась"
      ],
      "id": "_5Uga07AwiRd"
    },
    {
      "cell_type": "code",
      "execution_count": 889,
      "metadata": {
        "id": "3Tm7YCt9wLH5"
      },
      "outputs": [],
      "source": [
        "#проверим результат\n",
        "chi_square2 = scipy.stats.chi2_contingency(ct_o)[0]"
      ],
      "id": "3Tm7YCt9wLH5"
    },
    {
      "cell_type": "code",
      "execution_count": 890,
      "metadata": {
        "colab": {
          "base_uri": "https://localhost:8080/"
        },
        "id": "JL3JcGJVw5SN",
        "outputId": "da7425aa-0784-4d86-c807-24b683f14552"
      },
      "outputs": [
        {
          "output_type": "execute_result",
          "data": {
            "text/plain": [
              "False"
            ]
          },
          "metadata": {},
          "execution_count": 890
        }
      ],
      "source": [
        "chi_square2 > critical_value\n",
        "\n",
        "#действительно гипотеза не подтверждается"
      ],
      "id": "JL3JcGJVw5SN"
    },
    {
      "cell_type": "markdown",
      "metadata": {
        "id": "M7azSSvK2MHq"
      },
      "source": [
        "####H1: объем скидки влияет на то, что мы получаем положительный доход"
      ],
      "id": "M7azSSvK2MHq"
    },
    {
      "cell_type": "code",
      "execution_count": 891,
      "metadata": {
        "colab": {
          "base_uri": "https://localhost:8080/",
          "height": 282
        },
        "id": "6Kb9JHfP2z8X",
        "outputId": "06169996-1f5f-4e47-bfdf-4b62ff6a90a2"
      },
      "outputs": [
        {
          "output_type": "execute_result",
          "data": {
            "text/plain": [
              "<matplotlib.axes._subplots.AxesSubplot at 0x7efcceadd400>"
            ]
          },
          "metadata": {},
          "execution_count": 891
        },
        {
          "output_type": "display_data",
          "data": {
            "text/plain": [
              "<Figure size 432x288 with 1 Axes>"
            ],
            "image/png": "[encoded data removed]"
          },
          "metadata": {
            "needs_background": "light"
          }
        }
      ],
      "source": [
        "#смотрим распределение данных discount, чтобы определить группировку\n",
        "\n",
        "df_num.discount.hist()"
      ],
      "id": "6Kb9JHfP2z8X"
    },
    {
      "cell_type": "code",
      "execution_count": 892,
      "metadata": {
        "id": "yuU6t6Gv2ua3"
      },
      "outputs": [],
      "source": [
        "#сгруппируем данные \"discount\". возьмем простую группировку, в которой скидка меньше 50% -- низкая, выше -- высокая и закодируем это под 0 и 1\n",
        "\n",
        "def get_discount_cat(discount):\n",
        "    if discount < 0.5:\n",
        "        return 0\n",
        "    else:\n",
        "        return 1\n",
        "df_num['discount_cat'] = df_num['discount'].apply(get_discount_cat)"
      ],
      "id": "yuU6t6Gv2ua3"
    },
    {
      "cell_type": "code",
      "execution_count": 893,
      "metadata": {
        "colab": {
          "base_uri": "https://localhost:8080/",
          "height": 112
        },
        "id": "ckYVkmWM2dDz",
        "outputId": "519662ca-6cc2-4436-871c-e898049e773d"
      },
      "outputs": [
        {
          "output_type": "execute_result",
          "data": {
            "text/plain": [
              "    sales  quantity  discount   profit  shipping_cost  year  profit_cat  \\\n",
              "83  2,479         6    0.0000  49.5000       349.8700  2011           1   \n",
              "84  2,174         7    0.0000 260.8200       275.5200  2011           1   \n",
              "\n",
              "    discount_cat  \n",
              "83             0  \n",
              "84             0  "
            ],
            "text/html": [
              "\n",
              "  <div id=\"df-20105a51-74b2-4e42-a25a-8bc2a2e65180\">\n",
              "    <div class=\"colab-df-container\">\n",
              "      <div>\n",
              "<style scoped>\n",
              "    .dataframe tbody tr th:only-of-type {\n",
              "        vertical-align: middle;\n",
              "    }\n",
              "\n",
              "    .dataframe tbody tr th {\n",
              "        vertical-align: top;\n",
              "    }\n",
              "\n",
              "    .dataframe thead th {\n",
              "        text-align: right;\n",
              "    }\n",
              "</style>\n",
              "<table border=\"1\" class=\"dataframe\">\n",
              "  <thead>\n",
              "    <tr style=\"text-align: right;\">\n",
              "      <th></th>\n",
              "      <th>sales</th>\n",
              "      <th>quantity</th>\n",
              "      <th>discount</th>\n",
              "      <th>profit</th>\n",
              "      <th>shipping_cost</th>\n",
              "      <th>year</th>\n",
              "      <th>profit_cat</th>\n",
              "      <th>discount_cat</th>\n",
              "    </tr>\n",
              "  </thead>\n",
              "  <tbody>\n",
              "    <tr>\n",
              "      <th>83</th>\n",
              "      <td>2,479</td>\n",
              "      <td>6</td>\n",
              "      <td>0.0000</td>\n",
              "      <td>49.5000</td>\n",
              "      <td>349.8700</td>\n",
              "      <td>2011</td>\n",
              "      <td>1</td>\n",
              "      <td>0</td>\n",
              "    </tr>\n",
              "    <tr>\n",
              "      <th>84</th>\n",
              "      <td>2,174</td>\n",
              "      <td>7</td>\n",
              "      <td>0.0000</td>\n",
              "      <td>260.8200</td>\n",
              "      <td>275.5200</td>\n",
              "      <td>2011</td>\n",
              "      <td>1</td>\n",
              "      <td>0</td>\n",
              "    </tr>\n",
              "  </tbody>\n",
              "</table>\n",
              "</div>\n",
              "      <button class=\"colab-df-convert\" onclick=\"convertToInteractive('df-20105a51-74b2-4e42-a25a-8bc2a2e65180')\"\n",
              "              title=\"Convert this dataframe to an interactive table.\"\n",
              "              style=\"display:none;\">\n",
              "        \n",
              "  <svg xmlns=\"http://www.w3.org/2000/svg\" height=\"24px\"viewBox=\"0 0 24 24\"\n",
              "       width=\"24px\">\n",
              "    <path d=\"M0 0h24v24H0V0z\" fill=\"none\"/>\n",
              "    <path d=\"M18.56 5.44l.94 2.06.94-2.06 2.06-.94-2.06-.94-.94-2.06-.94 2.06-2.06.94zm-11 1L8.5 8.5l.94-2.06 2.06-.94-2.06-.94L8.5 2.5l-.94 2.06-2.06.94zm10 10l.94 2.06.94-2.06 2.06-.94-2.06-.94-.94-2.06-.94 2.06-2.06.94z\"/><path d=\"M17.41 7.96l-1.37-1.37c-.4-.4-.92-.59-1.43-.59-.52 0-1.04.2-1.43.59L10.3 9.45l-7.72 7.72c-.78.78-.78 2.05 0 2.83L4 21.41c.39.39.9.59 1.41.59.51 0 1.02-.2 1.41-.59l7.78-7.78 2.81-2.81c.8-.78.8-2.07 0-2.86zM5.41 20L4 18.59l7.72-7.72 1.47 1.35L5.41 20z\"/>\n",
              "  </svg>\n",
              "      </button>\n",
              "      \n",
              "  <style>\n",
              "    .colab-df-container {\n",
              "      display:flex;\n",
              "      flex-wrap:wrap;\n",
              "      gap: 12px;\n",
              "    }\n",
              "\n",
              "    .colab-df-convert {\n",
              "      background-color: #E8F0FE;\n",
              "      border: none;\n",
              "      border-radius: 50%;\n",
              "      cursor: pointer;\n",
              "      display: none;\n",
              "      fill: #1967D2;\n",
              "      height: 32px;\n",
              "      padding: 0 0 0 0;\n",
              "      width: 32px;\n",
              "    }\n",
              "\n",
              "    .colab-df-convert:hover {\n",
              "      background-color: #E2EBFA;\n",
              "      box-shadow: 0px 1px 2px rgba(60, 64, 67, 0.3), 0px 1px 3px 1px rgba(60, 64, 67, 0.15);\n",
              "      fill: #174EA6;\n",
              "    }\n",
              "\n",
              "    [theme=dark] .colab-df-convert {\n",
              "      background-color: #3B4455;\n",
              "      fill: #D2E3FC;\n",
              "    }\n",
              "\n",
              "    [theme=dark] .colab-df-convert:hover {\n",
              "      background-color: #434B5C;\n",
              "      box-shadow: 0px 1px 3px 1px rgba(0, 0, 0, 0.15);\n",
              "      filter: drop-shadow(0px 1px 2px rgba(0, 0, 0, 0.3));\n",
              "      fill: #FFFFFF;\n",
              "    }\n",
              "  </style>\n",
              "\n",
              "      <script>\n",
              "        const buttonEl =\n",
              "          document.querySelector('#df-20105a51-74b2-4e42-a25a-8bc2a2e65180 button.colab-df-convert');\n",
              "        buttonEl.style.display =\n",
              "          google.colab.kernel.accessAllowed ? 'block' : 'none';\n",
              "\n",
              "        async function convertToInteractive(key) {\n",
              "          const element = document.querySelector('#df-20105a51-74b2-4e42-a25a-8bc2a2e65180');\n",
              "          const dataTable =\n",
              "            await google.colab.kernel.invokeFunction('convertToInteractive',\n",
              "                                                     [key], {});\n",
              "          if (!dataTable) return;\n",
              "\n",
              "          const docLinkHtml = 'Like what you see? Visit the ' +\n",
              "            '<a target=\"_blank\" href=https://colab.research.google.com/notebooks/data_table.ipynb>data table notebook</a>'\n",
              "            + ' to learn more about interactive tables.';\n",
              "          element.innerHTML = '';\n",
              "          dataTable['output_type'] = 'display_data';\n",
              "          await google.colab.output.renderOutput(dataTable, element);\n",
              "          const docLink = document.createElement('div');\n",
              "          docLink.innerHTML = docLinkHtml;\n",
              "          element.appendChild(docLink);\n",
              "        }\n",
              "      </script>\n",
              "    </div>\n",
              "  </div>\n",
              "  "
            ]
          },
          "metadata": {},
          "execution_count": 893
        }
      ],
      "source": [
        "df_num[:2]"
      ],
      "id": "ckYVkmWM2dDz"
    },
    {
      "cell_type": "code",
      "execution_count": 894,
      "metadata": {
        "colab": {
          "base_uri": "https://localhost:8080/",
          "height": 143
        },
        "id": "RrXPDpOJ3aBF",
        "outputId": "f2afdb46-c487-4e43-ed2f-906f5996328b"
      },
      "outputs": [
        {
          "output_type": "execute_result",
          "data": {
            "text/plain": [
              "discount_cat        0       1\n",
              "profit_cat                   \n",
              "0            161.0000 12.0000\n",
              "1            851.0000     NaN"
            ],
            "text/html": [
              "\n",
              "  <div id=\"df-5b7ffba6-107b-4190-b4e0-aa03c928d02c\">\n",
              "    <div class=\"colab-df-container\">\n",
              "      <div>\n",
              "<style scoped>\n",
              "    .dataframe tbody tr th:only-of-type {\n",
              "        vertical-align: middle;\n",
              "    }\n",
              "\n",
              "    .dataframe tbody tr th {\n",
              "        vertical-align: top;\n",
              "    }\n",
              "\n",
              "    .dataframe thead th {\n",
              "        text-align: right;\n",
              "    }\n",
              "</style>\n",
              "<table border=\"1\" class=\"dataframe\">\n",
              "  <thead>\n",
              "    <tr style=\"text-align: right;\">\n",
              "      <th>discount_cat</th>\n",
              "      <th>0</th>\n",
              "      <th>1</th>\n",
              "    </tr>\n",
              "    <tr>\n",
              "      <th>profit_cat</th>\n",
              "      <th></th>\n",
              "      <th></th>\n",
              "    </tr>\n",
              "  </thead>\n",
              "  <tbody>\n",
              "    <tr>\n",
              "      <th>0</th>\n",
              "      <td>161.0000</td>\n",
              "      <td>12.0000</td>\n",
              "    </tr>\n",
              "    <tr>\n",
              "      <th>1</th>\n",
              "      <td>851.0000</td>\n",
              "      <td>NaN</td>\n",
              "    </tr>\n",
              "  </tbody>\n",
              "</table>\n",
              "</div>\n",
              "      <button class=\"colab-df-convert\" onclick=\"convertToInteractive('df-5b7ffba6-107b-4190-b4e0-aa03c928d02c')\"\n",
              "              title=\"Convert this dataframe to an interactive table.\"\n",
              "              style=\"display:none;\">\n",
              "        \n",
              "  <svg xmlns=\"http://www.w3.org/2000/svg\" height=\"24px\"viewBox=\"0 0 24 24\"\n",
              "       width=\"24px\">\n",
              "    <path d=\"M0 0h24v24H0V0z\" fill=\"none\"/>\n",
              "    <path d=\"M18.56 5.44l.94 2.06.94-2.06 2.06-.94-2.06-.94-.94-2.06-.94 2.06-2.06.94zm-11 1L8.5 8.5l.94-2.06 2.06-.94-2.06-.94L8.5 2.5l-.94 2.06-2.06.94zm10 10l.94 2.06.94-2.06 2.06-.94-2.06-.94-.94-2.06-.94 2.06-2.06.94z\"/><path d=\"M17.41 7.96l-1.37-1.37c-.4-.4-.92-.59-1.43-.59-.52 0-1.04.2-1.43.59L10.3 9.45l-7.72 7.72c-.78.78-.78 2.05 0 2.83L4 21.41c.39.39.9.59 1.41.59.51 0 1.02-.2 1.41-.59l7.78-7.78 2.81-2.81c.8-.78.8-2.07 0-2.86zM5.41 20L4 18.59l7.72-7.72 1.47 1.35L5.41 20z\"/>\n",
              "  </svg>\n",
              "      </button>\n",
              "      \n",
              "  <style>\n",
              "    .colab-df-container {\n",
              "      display:flex;\n",
              "      flex-wrap:wrap;\n",
              "      gap: 12px;\n",
              "    }\n",
              "\n",
              "    .colab-df-convert {\n",
              "      background-color: #E8F0FE;\n",
              "      border: none;\n",
              "      border-radius: 50%;\n",
              "      cursor: pointer;\n",
              "      display: none;\n",
              "      fill: #1967D2;\n",
              "      height: 32px;\n",
              "      padding: 0 0 0 0;\n",
              "      width: 32px;\n",
              "    }\n",
              "\n",
              "    .colab-df-convert:hover {\n",
              "      background-color: #E2EBFA;\n",
              "      box-shadow: 0px 1px 2px rgba(60, 64, 67, 0.3), 0px 1px 3px 1px rgba(60, 64, 67, 0.15);\n",
              "      fill: #174EA6;\n",
              "    }\n",
              "\n",
              "    [theme=dark] .colab-df-convert {\n",
              "      background-color: #3B4455;\n",
              "      fill: #D2E3FC;\n",
              "    }\n",
              "\n",
              "    [theme=dark] .colab-df-convert:hover {\n",
              "      background-color: #434B5C;\n",
              "      box-shadow: 0px 1px 3px 1px rgba(0, 0, 0, 0.15);\n",
              "      filter: drop-shadow(0px 1px 2px rgba(0, 0, 0, 0.3));\n",
              "      fill: #FFFFFF;\n",
              "    }\n",
              "  </style>\n",
              "\n",
              "      <script>\n",
              "        const buttonEl =\n",
              "          document.querySelector('#df-5b7ffba6-107b-4190-b4e0-aa03c928d02c button.colab-df-convert');\n",
              "        buttonEl.style.display =\n",
              "          google.colab.kernel.accessAllowed ? 'block' : 'none';\n",
              "\n",
              "        async function convertToInteractive(key) {\n",
              "          const element = document.querySelector('#df-5b7ffba6-107b-4190-b4e0-aa03c928d02c');\n",
              "          const dataTable =\n",
              "            await google.colab.kernel.invokeFunction('convertToInteractive',\n",
              "                                                     [key], {});\n",
              "          if (!dataTable) return;\n",
              "\n",
              "          const docLinkHtml = 'Like what you see? Visit the ' +\n",
              "            '<a target=\"_blank\" href=https://colab.research.google.com/notebooks/data_table.ipynb>data table notebook</a>'\n",
              "            + ' to learn more about interactive tables.';\n",
              "          element.innerHTML = '';\n",
              "          dataTable['output_type'] = 'display_data';\n",
              "          await google.colab.output.renderOutput(dataTable, element);\n",
              "          const docLink = document.createElement('div');\n",
              "          docLink.innerHTML = docLinkHtml;\n",
              "          element.appendChild(docLink);\n",
              "        }\n",
              "      </script>\n",
              "    </div>\n",
              "  </div>\n",
              "  "
            ]
          },
          "metadata": {},
          "execution_count": 894
        }
      ],
      "source": [
        "ct_o = df_num.groupby('profit_cat')['discount_cat'].value_counts().unstack()\n",
        "ct_o"
      ],
      "id": "RrXPDpOJ3aBF"
    },
    {
      "cell_type": "code",
      "execution_count": 895,
      "metadata": {
        "id": "PFcu9yS84tok"
      },
      "outputs": [],
      "source": [
        "alpha = 0.05\n",
        "critical_value = 6.63"
      ],
      "id": "PFcu9yS84tok"
    },
    {
      "cell_type": "code",
      "execution_count": 896,
      "metadata": {
        "id": "pvV2GBgv43t7"
      },
      "outputs": [],
      "source": [
        "chi_square = scipy.stats.chi2_contingency(ct_o)[0]"
      ],
      "id": "pvV2GBgv43t7"
    },
    {
      "cell_type": "code",
      "execution_count": 897,
      "metadata": {
        "colab": {
          "base_uri": "https://localhost:8080/"
        },
        "id": "LTKuC8ga47m6",
        "outputId": "dbd346ab-6b2c-4443-ab9f-69a2aa33a8cd"
      },
      "outputs": [
        {
          "output_type": "execute_result",
          "data": {
            "text/plain": [
              "False"
            ]
          },
          "metadata": {},
          "execution_count": 897
        }
      ],
      "source": [
        "chi_square > critical_value\n",
        "\n",
        "#гипотеза не подвердилась "
      ],
      "id": "LTKuC8ga47m6"
    },
    {
      "cell_type": "markdown",
      "metadata": {
        "id": "eQp8guep5i46"
      },
      "source": [
        "###Параметрический критерий: t-тест"
      ],
      "id": "eQp8guep5i46"
    },
    {
      "cell_type": "code",
      "execution_count": 898,
      "metadata": {
        "colab": {
          "base_uri": "https://localhost:8080/",
          "height": 112
        },
        "id": "CkXu56LF5dTD",
        "outputId": "177cb64a-a583-48df-9ced-63fd2eb175e6"
      },
      "outputs": [
        {
          "output_type": "execute_result",
          "data": {
            "text/plain": [
              "    sales  quantity  discount   profit  shipping_cost  year  profit_cat  \\\n",
              "83  2,479         6    0.0000  49.5000       349.8700  2011           1   \n",
              "84  2,174         7    0.0000 260.8200       275.5200  2011           1   \n",
              "\n",
              "    discount_cat  \n",
              "83             0  \n",
              "84             0  "
            ],
            "text/html": [
              "\n",
              "  <div id=\"df-af1f8fe8-fbc6-4813-a2f5-c13905b13bcc\">\n",
              "    <div class=\"colab-df-container\">\n",
              "      <div>\n",
              "<style scoped>\n",
              "    .dataframe tbody tr th:only-of-type {\n",
              "        vertical-align: middle;\n",
              "    }\n",
              "\n",
              "    .dataframe tbody tr th {\n",
              "        vertical-align: top;\n",
              "    }\n",
              "\n",
              "    .dataframe thead th {\n",
              "        text-align: right;\n",
              "    }\n",
              "</style>\n",
              "<table border=\"1\" class=\"dataframe\">\n",
              "  <thead>\n",
              "    <tr style=\"text-align: right;\">\n",
              "      <th></th>\n",
              "      <th>sales</th>\n",
              "      <th>quantity</th>\n",
              "      <th>discount</th>\n",
              "      <th>profit</th>\n",
              "      <th>shipping_cost</th>\n",
              "      <th>year</th>\n",
              "      <th>profit_cat</th>\n",
              "      <th>discount_cat</th>\n",
              "    </tr>\n",
              "  </thead>\n",
              "  <tbody>\n",
              "    <tr>\n",
              "      <th>83</th>\n",
              "      <td>2,479</td>\n",
              "      <td>6</td>\n",
              "      <td>0.0000</td>\n",
              "      <td>49.5000</td>\n",
              "      <td>349.8700</td>\n",
              "      <td>2011</td>\n",
              "      <td>1</td>\n",
              "      <td>0</td>\n",
              "    </tr>\n",
              "    <tr>\n",
              "      <th>84</th>\n",
              "      <td>2,174</td>\n",
              "      <td>7</td>\n",
              "      <td>0.0000</td>\n",
              "      <td>260.8200</td>\n",
              "      <td>275.5200</td>\n",
              "      <td>2011</td>\n",
              "      <td>1</td>\n",
              "      <td>0</td>\n",
              "    </tr>\n",
              "  </tbody>\n",
              "</table>\n",
              "</div>\n",
              "      <button class=\"colab-df-convert\" onclick=\"convertToInteractive('df-af1f8fe8-fbc6-4813-a2f5-c13905b13bcc')\"\n",
              "              title=\"Convert this dataframe to an interactive table.\"\n",
              "              style=\"display:none;\">\n",
              "        \n",
              "  <svg xmlns=\"http://www.w3.org/2000/svg\" height=\"24px\"viewBox=\"0 0 24 24\"\n",
              "       width=\"24px\">\n",
              "    <path d=\"M0 0h24v24H0V0z\" fill=\"none\"/>\n",
              "    <path d=\"M18.56 5.44l.94 2.06.94-2.06 2.06-.94-2.06-.94-.94-2.06-.94 2.06-2.06.94zm-11 1L8.5 8.5l.94-2.06 2.06-.94-2.06-.94L8.5 2.5l-.94 2.06-2.06.94zm10 10l.94 2.06.94-2.06 2.06-.94-2.06-.94-.94-2.06-.94 2.06-2.06.94z\"/><path d=\"M17.41 7.96l-1.37-1.37c-.4-.4-.92-.59-1.43-.59-.52 0-1.04.2-1.43.59L10.3 9.45l-7.72 7.72c-.78.78-.78 2.05 0 2.83L4 21.41c.39.39.9.59 1.41.59.51 0 1.02-.2 1.41-.59l7.78-7.78 2.81-2.81c.8-.78.8-2.07 0-2.86zM5.41 20L4 18.59l7.72-7.72 1.47 1.35L5.41 20z\"/>\n",
              "  </svg>\n",
              "      </button>\n",
              "      \n",
              "  <style>\n",
              "    .colab-df-container {\n",
              "      display:flex;\n",
              "      flex-wrap:wrap;\n",
              "      gap: 12px;\n",
              "    }\n",
              "\n",
              "    .colab-df-convert {\n",
              "      background-color: #E8F0FE;\n",
              "      border: none;\n",
              "      border-radius: 50%;\n",
              "      cursor: pointer;\n",
              "      display: none;\n",
              "      fill: #1967D2;\n",
              "      height: 32px;\n",
              "      padding: 0 0 0 0;\n",
              "      width: 32px;\n",
              "    }\n",
              "\n",
              "    .colab-df-convert:hover {\n",
              "      background-color: #E2EBFA;\n",
              "      box-shadow: 0px 1px 2px rgba(60, 64, 67, 0.3), 0px 1px 3px 1px rgba(60, 64, 67, 0.15);\n",
              "      fill: #174EA6;\n",
              "    }\n",
              "\n",
              "    [theme=dark] .colab-df-convert {\n",
              "      background-color: #3B4455;\n",
              "      fill: #D2E3FC;\n",
              "    }\n",
              "\n",
              "    [theme=dark] .colab-df-convert:hover {\n",
              "      background-color: #434B5C;\n",
              "      box-shadow: 0px 1px 3px 1px rgba(0, 0, 0, 0.15);\n",
              "      filter: drop-shadow(0px 1px 2px rgba(0, 0, 0, 0.3));\n",
              "      fill: #FFFFFF;\n",
              "    }\n",
              "  </style>\n",
              "\n",
              "      <script>\n",
              "        const buttonEl =\n",
              "          document.querySelector('#df-af1f8fe8-fbc6-4813-a2f5-c13905b13bcc button.colab-df-convert');\n",
              "        buttonEl.style.display =\n",
              "          google.colab.kernel.accessAllowed ? 'block' : 'none';\n",
              "\n",
              "        async function convertToInteractive(key) {\n",
              "          const element = document.querySelector('#df-af1f8fe8-fbc6-4813-a2f5-c13905b13bcc');\n",
              "          const dataTable =\n",
              "            await google.colab.kernel.invokeFunction('convertToInteractive',\n",
              "                                                     [key], {});\n",
              "          if (!dataTable) return;\n",
              "\n",
              "          const docLinkHtml = 'Like what you see? Visit the ' +\n",
              "            '<a target=\"_blank\" href=https://colab.research.google.com/notebooks/data_table.ipynb>data table notebook</a>'\n",
              "            + ' to learn more about interactive tables.';\n",
              "          element.innerHTML = '';\n",
              "          dataTable['output_type'] = 'display_data';\n",
              "          await google.colab.output.renderOutput(dataTable, element);\n",
              "          const docLink = document.createElement('div');\n",
              "          docLink.innerHTML = docLinkHtml;\n",
              "          element.appendChild(docLink);\n",
              "        }\n",
              "      </script>\n",
              "    </div>\n",
              "  </div>\n",
              "  "
            ]
          },
          "metadata": {},
          "execution_count": 898
        }
      ],
      "source": [
        "#нулевая гипотеза: доход зависит от размера скидки\n",
        "df_num[:2]"
      ],
      "id": "CkXu56LF5dTD"
    },
    {
      "cell_type": "code",
      "execution_count": 899,
      "metadata": {
        "id": "X0bABCTG6GuX"
      },
      "outputs": [],
      "source": [
        "#формируем две подгруппы\n",
        "high_discount = df_num[df_num['discount_cat'] == 1]['profit'] \n",
        "small_discount = df_num[df_num['discount_cat'] == 0]['profit'] "
      ],
      "id": "X0bABCTG6GuX"
    },
    {
      "cell_type": "code",
      "execution_count": 900,
      "metadata": {
        "colab": {
          "base_uri": "https://localhost:8080/",
          "height": 282
        },
        "id": "HREVkPiagfeQ",
        "outputId": "02ec28cc-ae13-4301-bb42-e57ec48d217f"
      },
      "outputs": [
        {
          "output_type": "execute_result",
          "data": {
            "text/plain": [
              "<matplotlib.axes._subplots.AxesSubplot at 0x7efcd0d4dfa0>"
            ]
          },
          "metadata": {},
          "execution_count": 900
        },
        {
          "output_type": "display_data",
          "data": {
            "text/plain": [
              "<Figure size 432x288 with 1 Axes>"
            ],
            "image/png": "[encoded data removed]"
          },
          "metadata": {
            "needs_background": "light"
          }
        }
      ],
      "source": [
        "#смотрим распределение\n",
        "\n",
        "high_discount.hist()"
      ],
      "id": "HREVkPiagfeQ"
    },
    {
      "cell_type": "code",
      "execution_count": 901,
      "metadata": {
        "colab": {
          "base_uri": "https://localhost:8080/",
          "height": 282
        },
        "id": "fD8YQq-YgmpP",
        "outputId": "8fac8876-7775-408f-f91c-43151fbfda4b"
      },
      "outputs": [
        {
          "output_type": "execute_result",
          "data": {
            "text/plain": [
              "<matplotlib.axes._subplots.AxesSubplot at 0x7efcca49c9a0>"
            ]
          },
          "metadata": {},
          "execution_count": 901
        },
        {
          "output_type": "display_data",
          "data": {
            "text/plain": [
              "<Figure size 432x288 with 1 Axes>"
            ],
            "image/png": "[encoded data removed]"
          },
          "metadata": {
            "needs_background": "light"
          }
        }
      ],
      "source": [
        "small_discount.hist()"
      ],
      "id": "fD8YQq-YgmpP"
    },
    {
      "cell_type": "code",
      "execution_count": 902,
      "metadata": {
        "colab": {
          "base_uri": "https://localhost:8080/"
        },
        "id": "A6GmI2uEgq_K",
        "outputId": "cf750e23-9ab4-44d7-cc57-5cb13fcf1c42"
      },
      "outputs": [
        {
          "output_type": "stream",
          "name": "stdout",
          "text": [
            "22077.36976534061\n",
            "38836.84688885037\n"
          ]
        }
      ],
      "source": [
        "#рассчитаем дисперсию \n",
        "print(high_discount.var())\n",
        "print(small_discount.var())"
      ],
      "id": "A6GmI2uEgq_K"
    },
    {
      "cell_type": "code",
      "execution_count": 903,
      "metadata": {
        "id": "ZVLU4Dh0g7bS"
      },
      "outputs": [],
      "source": [
        "#рассчитываем показатели\n",
        "n_high = len(high_discount)   \n",
        "n_small = len(small_discount)\n",
        "var_high = high_discount.var()\n",
        "var_small = small_discount.var()"
      ],
      "id": "ZVLU4Dh0g7bS"
    },
    {
      "cell_type": "code",
      "execution_count": 904,
      "metadata": {
        "colab": {
          "base_uri": "https://localhost:8080/"
        },
        "id": "jAlRIAJihX6d",
        "outputId": "23885a4e-0f46-456c-e97d-10418acb8023"
      },
      "outputs": [
        {
          "output_type": "stream",
          "name": "stdout",
          "text": [
            "1876.1320318814408\n"
          ]
        }
      ],
      "source": [
        "v_high = var_high / n_high\n",
        "v_small = var_small / n_small\n",
        "dof = (v_high + v_small)**2 / (v_high**2 / (v_high - 1) + v_small**2 / (v_small - 1))\n",
        "print(dof)"
      ],
      "id": "jAlRIAJihX6d"
    },
    {
      "cell_type": "code",
      "execution_count": 905,
      "metadata": {
        "id": "RaDL3wsXhqE3"
      },
      "outputs": [],
      "source": [
        "def hypothesis_check(t, t_critical):\n",
        "    if abs(t) > t_critical:\n",
        "        print('Отвергаем НО. Разница между средними статистически значима.')\n",
        "    else:\n",
        "        print('Не удалось отвергнуть НО')\n",
        "        \n",
        "t_critical = 3.1058"
      ],
      "id": "RaDL3wsXhqE3"
    },
    {
      "cell_type": "code",
      "execution_count": 906,
      "metadata": {
        "colab": {
          "base_uri": "https://localhost:8080/"
        },
        "id": "e-jyg9vDi86M",
        "outputId": "322151f4-a10e-4ad8-b07d-c1aaab71b435"
      },
      "outputs": [
        {
          "output_type": "execute_result",
          "data": {
            "text/plain": [
              "43.33771042286637"
            ]
          },
          "metadata": {},
          "execution_count": 906
        }
      ],
      "source": [
        "s_sum = np.sqrt(v_high + v_small)\n",
        "s_sum"
      ],
      "id": "e-jyg9vDi86M"
    },
    {
      "cell_type": "code",
      "execution_count": 907,
      "metadata": {
        "colab": {
          "base_uri": "https://localhost:8080/"
        },
        "id": "bgekyaAajJrc",
        "outputId": "82fc42d7-0a29-428f-f1bb-c45148d24a0d"
      },
      "outputs": [
        {
          "output_type": "execute_result",
          "data": {
            "text/plain": [
              "(-312.4988666666667, 182.88625132411067)"
            ]
          },
          "metadata": {},
          "execution_count": 907
        }
      ],
      "source": [
        "mean_high = high_discount.mean()\n",
        "mean_small = small_discount.mean()\n",
        "mean_high, mean_small"
      ],
      "id": "bgekyaAajJrc"
    },
    {
      "cell_type": "code",
      "execution_count": 908,
      "metadata": {
        "colab": {
          "base_uri": "https://localhost:8080/"
        },
        "id": "uBJ-1JeBjU-O",
        "outputId": "9bae3bf1-1f8f-49e1-a4c5-012a58a6ca00"
      },
      "outputs": [
        {
          "output_type": "execute_result",
          "data": {
            "text/plain": [
              "-11.430809638005154"
            ]
          },
          "metadata": {},
          "execution_count": 908
        }
      ],
      "source": [
        "#рассчитываем значение t\n",
        "t = (mean_high - mean_small)/ s_sum  \n",
        "t"
      ],
      "id": "uBJ-1JeBjU-O"
    },
    {
      "cell_type": "code",
      "execution_count": 909,
      "metadata": {
        "colab": {
          "base_uri": "https://localhost:8080/"
        },
        "id": "Tw8YCL1Ojgtd",
        "outputId": "20a5f226-38cf-41c3-f3f5-eca44b66ba00"
      },
      "outputs": [
        {
          "output_type": "stream",
          "name": "stdout",
          "text": [
            "Отвергаем НО. Разница между средними статистически значима.\n"
          ]
        }
      ],
      "source": [
        "hypothesis_check(t, t_critical)"
      ],
      "id": "Tw8YCL1Ojgtd"
    },
    {
      "cell_type": "markdown",
      "metadata": {
        "id": "DQKpzfZt5nZQ"
      },
      "source": [
        "#Построение линейной регрессии"
      ],
      "id": "DQKpzfZt5nZQ"
    },
    {
      "cell_type": "code",
      "execution_count": 910,
      "metadata": {
        "colab": {
          "base_uri": "https://localhost:8080/",
          "height": 424
        },
        "id": "s9AO6T9D6Igy",
        "outputId": "2691bffa-dedd-43d2-8ad9-56952ca83e29"
      },
      "outputs": [
        {
          "output_type": "execute_result",
          "data": {
            "text/plain": [
              "       sales  quantity  discount    profit  shipping_cost  year  profit_cat  \\\n",
              "83     2,479         6    0.0000   49.5000       349.8700  2011           1   \n",
              "84     2,174         7    0.0000  260.8200       275.5200  2011           1   \n",
              "100    2,875         5    0.1000  511.0950       665.2700  2011           1   \n",
              "125    1,384         3    0.0000   13.7700       178.9800  2011           1   \n",
              "173    1,326         5    0.0000  238.6530       187.6500  2011           1   \n",
              "...      ...       ...       ...       ...            ...   ...         ...   \n",
              "51034  1,535         3    0.1000 -102.4110       255.4200  2014           0   \n",
              "51035  1,104         4    0.1000  208.6080       182.2000  2014           1   \n",
              "51150  1,094         6    0.0000  317.1600       184.6000  2014           1   \n",
              "51228  1,264         5    0.0020  301.4660       253.2500  2014           1   \n",
              "51229  1,091         3    0.0700   46.9206       243.1100  2014           1   \n",
              "\n",
              "       discount_cat  \n",
              "83                0  \n",
              "84                0  \n",
              "100               0  \n",
              "125               0  \n",
              "173               0  \n",
              "...             ...  \n",
              "51034             0  \n",
              "51035             0  \n",
              "51150             0  \n",
              "51228             0  \n",
              "51229             0  \n",
              "\n",
              "[1024 rows x 8 columns]"
            ],
            "text/html": [
              "\n",
              "  <div id=\"df-ed3950d4-3ea9-4113-af39-529114b8b536\">\n",
              "    <div class=\"colab-df-container\">\n",
              "      <div>\n",
              "<style scoped>\n",
              "    .dataframe tbody tr th:only-of-type {\n",
              "        vertical-align: middle;\n",
              "    }\n",
              "\n",
              "    .dataframe tbody tr th {\n",
              "        vertical-align: top;\n",
              "    }\n",
              "\n",
              "    .dataframe thead th {\n",
              "        text-align: right;\n",
              "    }\n",
              "</style>\n",
              "<table border=\"1\" class=\"dataframe\">\n",
              "  <thead>\n",
              "    <tr style=\"text-align: right;\">\n",
              "      <th></th>\n",
              "      <th>sales</th>\n",
              "      <th>quantity</th>\n",
              "      <th>discount</th>\n",
              "      <th>profit</th>\n",
              "      <th>shipping_cost</th>\n",
              "      <th>year</th>\n",
              "      <th>profit_cat</th>\n",
              "      <th>discount_cat</th>\n",
              "    </tr>\n",
              "  </thead>\n",
              "  <tbody>\n",
              "    <tr>\n",
              "      <th>83</th>\n",
              "      <td>2,479</td>\n",
              "      <td>6</td>\n",
              "      <td>0.0000</td>\n",
              "      <td>49.5000</td>\n",
              "      <td>349.8700</td>\n",
              "      <td>2011</td>\n",
              "      <td>1</td>\n",
              "      <td>0</td>\n",
              "    </tr>\n",
              "    <tr>\n",
              "      <th>84</th>\n",
              "      <td>2,174</td>\n",
              "      <td>7</td>\n",
              "      <td>0.0000</td>\n",
              "      <td>260.8200</td>\n",
              "      <td>275.5200</td>\n",
              "      <td>2011</td>\n",
              "      <td>1</td>\n",
              "      <td>0</td>\n",
              "    </tr>\n",
              "    <tr>\n",
              "      <th>100</th>\n",
              "      <td>2,875</td>\n",
              "      <td>5</td>\n",
              "      <td>0.1000</td>\n",
              "      <td>511.0950</td>\n",
              "      <td>665.2700</td>\n",
              "      <td>2011</td>\n",
              "      <td>1</td>\n",
              "      <td>0</td>\n",
              "    </tr>\n",
              "    <tr>\n",
              "      <th>125</th>\n",
              "      <td>1,384</td>\n",
              "      <td>3</td>\n",
              "      <td>0.0000</td>\n",
              "      <td>13.7700</td>\n",
              "      <td>178.9800</td>\n",
              "      <td>2011</td>\n",
              "      <td>1</td>\n",
              "      <td>0</td>\n",
              "    </tr>\n",
              "    <tr>\n",
              "      <th>173</th>\n",
              "      <td>1,326</td>\n",
              "      <td>5</td>\n",
              "      <td>0.0000</td>\n",
              "      <td>238.6530</td>\n",
              "      <td>187.6500</td>\n",
              "      <td>2011</td>\n",
              "      <td>1</td>\n",
              "      <td>0</td>\n",
              "    </tr>\n",
              "    <tr>\n",
              "      <th>...</th>\n",
              "      <td>...</td>\n",
              "      <td>...</td>\n",
              "      <td>...</td>\n",
              "      <td>...</td>\n",
              "      <td>...</td>\n",
              "      <td>...</td>\n",
              "      <td>...</td>\n",
              "      <td>...</td>\n",
              "    </tr>\n",
              "    <tr>\n",
              "      <th>51034</th>\n",
              "      <td>1,535</td>\n",
              "      <td>3</td>\n",
              "      <td>0.1000</td>\n",
              "      <td>-102.4110</td>\n",
              "      <td>255.4200</td>\n",
              "      <td>2014</td>\n",
              "      <td>0</td>\n",
              "      <td>0</td>\n",
              "    </tr>\n",
              "    <tr>\n",
              "      <th>51035</th>\n",
              "      <td>1,104</td>\n",
              "      <td>4</td>\n",
              "      <td>0.1000</td>\n",
              "      <td>208.6080</td>\n",
              "      <td>182.2000</td>\n",
              "      <td>2014</td>\n",
              "      <td>1</td>\n",
              "      <td>0</td>\n",
              "    </tr>\n",
              "    <tr>\n",
              "      <th>51150</th>\n",
              "      <td>1,094</td>\n",
              "      <td>6</td>\n",
              "      <td>0.0000</td>\n",
              "      <td>317.1600</td>\n",
              "      <td>184.6000</td>\n",
              "      <td>2014</td>\n",
              "      <td>1</td>\n",
              "      <td>0</td>\n",
              "    </tr>\n",
              "    <tr>\n",
              "      <th>51228</th>\n",
              "      <td>1,264</td>\n",
              "      <td>5</td>\n",
              "      <td>0.0020</td>\n",
              "      <td>301.4660</td>\n",
              "      <td>253.2500</td>\n",
              "      <td>2014</td>\n",
              "      <td>1</td>\n",
              "      <td>0</td>\n",
              "    </tr>\n",
              "    <tr>\n",
              "      <th>51229</th>\n",
              "      <td>1,091</td>\n",
              "      <td>3</td>\n",
              "      <td>0.0700</td>\n",
              "      <td>46.9206</td>\n",
              "      <td>243.1100</td>\n",
              "      <td>2014</td>\n",
              "      <td>1</td>\n",
              "      <td>0</td>\n",
              "    </tr>\n",
              "  </tbody>\n",
              "</table>\n",
              "<p>1024 rows × 8 columns</p>\n",
              "</div>\n",
              "      <button class=\"colab-df-convert\" onclick=\"convertToInteractive('df-ed3950d4-3ea9-4113-af39-529114b8b536')\"\n",
              "              title=\"Convert this dataframe to an interactive table.\"\n",
              "              style=\"display:none;\">\n",
              "        \n",
              "  <svg xmlns=\"http://www.w3.org/2000/svg\" height=\"24px\"viewBox=\"0 0 24 24\"\n",
              "       width=\"24px\">\n",
              "    <path d=\"M0 0h24v24H0V0z\" fill=\"none\"/>\n",
              "    <path d=\"M18.56 5.44l.94 2.06.94-2.06 2.06-.94-2.06-.94-.94-2.06-.94 2.06-2.06.94zm-11 1L8.5 8.5l.94-2.06 2.06-.94-2.06-.94L8.5 2.5l-.94 2.06-2.06.94zm10 10l.94 2.06.94-2.06 2.06-.94-2.06-.94-.94-2.06-.94 2.06-2.06.94z\"/><path d=\"M17.41 7.96l-1.37-1.37c-.4-.4-.92-.59-1.43-.59-.52 0-1.04.2-1.43.59L10.3 9.45l-7.72 7.72c-.78.78-.78 2.05 0 2.83L4 21.41c.39.39.9.59 1.41.59.51 0 1.02-.2 1.41-.59l7.78-7.78 2.81-2.81c.8-.78.8-2.07 0-2.86zM5.41 20L4 18.59l7.72-7.72 1.47 1.35L5.41 20z\"/>\n",
              "  </svg>\n",
              "      </button>\n",
              "      \n",
              "  <style>\n",
              "    .colab-df-container {\n",
              "      display:flex;\n",
              "      flex-wrap:wrap;\n",
              "      gap: 12px;\n",
              "    }\n",
              "\n",
              "    .colab-df-convert {\n",
              "      background-color: #E8F0FE;\n",
              "      border: none;\n",
              "      border-radius: 50%;\n",
              "      cursor: pointer;\n",
              "      display: none;\n",
              "      fill: #1967D2;\n",
              "      height: 32px;\n",
              "      padding: 0 0 0 0;\n",
              "      width: 32px;\n",
              "    }\n",
              "\n",
              "    .colab-df-convert:hover {\n",
              "      background-color: #E2EBFA;\n",
              "      box-shadow: 0px 1px 2px rgba(60, 64, 67, 0.3), 0px 1px 3px 1px rgba(60, 64, 67, 0.15);\n",
              "      fill: #174EA6;\n",
              "    }\n",
              "\n",
              "    [theme=dark] .colab-df-convert {\n",
              "      background-color: #3B4455;\n",
              "      fill: #D2E3FC;\n",
              "    }\n",
              "\n",
              "    [theme=dark] .colab-df-convert:hover {\n",
              "      background-color: #434B5C;\n",
              "      box-shadow: 0px 1px 3px 1px rgba(0, 0, 0, 0.15);\n",
              "      filter: drop-shadow(0px 1px 2px rgba(0, 0, 0, 0.3));\n",
              "      fill: #FFFFFF;\n",
              "    }\n",
              "  </style>\n",
              "\n",
              "      <script>\n",
              "        const buttonEl =\n",
              "          document.querySelector('#df-ed3950d4-3ea9-4113-af39-529114b8b536 button.colab-df-convert');\n",
              "        buttonEl.style.display =\n",
              "          google.colab.kernel.accessAllowed ? 'block' : 'none';\n",
              "\n",
              "        async function convertToInteractive(key) {\n",
              "          const element = document.querySelector('#df-ed3950d4-3ea9-4113-af39-529114b8b536');\n",
              "          const dataTable =\n",
              "            await google.colab.kernel.invokeFunction('convertToInteractive',\n",
              "                                                     [key], {});\n",
              "          if (!dataTable) return;\n",
              "\n",
              "          const docLinkHtml = 'Like what you see? Visit the ' +\n",
              "            '<a target=\"_blank\" href=https://colab.research.google.com/notebooks/data_table.ipynb>data table notebook</a>'\n",
              "            + ' to learn more about interactive tables.';\n",
              "          element.innerHTML = '';\n",
              "          dataTable['output_type'] = 'display_data';\n",
              "          await google.colab.output.renderOutput(dataTable, element);\n",
              "          const docLink = document.createElement('div');\n",
              "          docLink.innerHTML = docLinkHtml;\n",
              "          element.appendChild(docLink);\n",
              "        }\n",
              "      </script>\n",
              "    </div>\n",
              "  </div>\n",
              "  "
            ]
          },
          "metadata": {},
          "execution_count": 910
        }
      ],
      "source": [
        "df_num"
      ],
      "id": "s9AO6T9D6Igy"
    },
    {
      "cell_type": "code",
      "execution_count": 911,
      "metadata": {
        "id": "KGBAfRbB6CCc"
      },
      "outputs": [],
      "source": [
        "df_num1 = df_num[['quantity', \t'discount', \t'profit', \t'shipping_cost']].head(1000)\n",
        "\n",
        "#причем, ограничили данные до первой тысячи, иначе далее функции выполняются очень медленно"
      ],
      "id": "KGBAfRbB6CCc"
    },
    {
      "cell_type": "code",
      "execution_count": 912,
      "metadata": {
        "colab": {
          "base_uri": "https://localhost:8080/"
        },
        "id": "D645aLODX76R",
        "outputId": "b2e318f3-7564-4cd4-821b-1a05d6eefa24"
      },
      "outputs": [
        {
          "output_type": "stream",
          "name": "stdout",
          "text": [
            "<class 'pandas.core.frame.DataFrame'>\n",
            "Int64Index: 1000 entries, 83 to 50067\n",
            "Data columns (total 4 columns):\n",
            " #   Column         Non-Null Count  Dtype  \n",
            "---  ------         --------------  -----  \n",
            " 0   quantity       1000 non-null   int64  \n",
            " 1   discount       1000 non-null   float64\n",
            " 2   profit         1000 non-null   float64\n",
            " 3   shipping_cost  1000 non-null   float64\n",
            "dtypes: float64(3), int64(1)\n",
            "memory usage: 39.1 KB\n"
          ]
        }
      ],
      "source": [
        "df_num1.info()"
      ],
      "id": "D645aLODX76R"
    },
    {
      "cell_type": "code",
      "execution_count": 913,
      "metadata": {
        "id": "44Elm-HgY0G0"
      },
      "outputs": [],
      "source": [
        "df_num1['quantity'] = df_num1['quantity'].astype(float)"
      ],
      "id": "44Elm-HgY0G0"
    },
    {
      "cell_type": "code",
      "execution_count": 914,
      "metadata": {
        "colab": {
          "base_uri": "https://localhost:8080/"
        },
        "id": "yF64kywSaaTr",
        "outputId": "35bfd3f3-34fe-48b3-b4b5-cff3a3855403"
      },
      "outputs": [
        {
          "output_type": "stream",
          "name": "stdout",
          "text": [
            "<class 'pandas.core.frame.DataFrame'>\n",
            "Int64Index: 1000 entries, 83 to 50067\n",
            "Data columns (total 4 columns):\n",
            " #   Column         Non-Null Count  Dtype  \n",
            "---  ------         --------------  -----  \n",
            " 0   quantity       1000 non-null   float64\n",
            " 1   discount       1000 non-null   float64\n",
            " 2   profit         1000 non-null   float64\n",
            " 3   shipping_cost  1000 non-null   float64\n",
            "dtypes: float64(4)\n",
            "memory usage: 39.1 KB\n"
          ]
        }
      ],
      "source": [
        "df_num1.info()"
      ],
      "id": "yF64kywSaaTr"
    },
    {
      "cell_type": "code",
      "execution_count": 915,
      "metadata": {
        "colab": {
          "base_uri": "https://localhost:8080/",
          "height": 743
        },
        "id": "X_svs1JJ5m8y",
        "outputId": "e448086b-e8e6-4df8-9856-89b8a7782d21"
      },
      "outputs": [
        {
          "output_type": "execute_result",
          "data": {
            "text/plain": [
              "<seaborn.axisgrid.PairGrid at 0x7efccefa4a00>"
            ]
          },
          "metadata": {},
          "execution_count": 915
        },
        {
          "output_type": "display_data",
          "data": {
            "text/plain": [
              "<Figure size 720x720 with 20 Axes>"
            ],
            "image/png": "[encoded data removed]"
          },
          "metadata": {
            "needs_background": "light"
          }
        }
      ],
      "source": [
        "sns.pairplot(df_num1)\n",
        "\n",
        "#проверяем переменные на наличие корреляции и видим, что линейных взаимосвязей нет"
      ],
      "id": "X_svs1JJ5m8y"
    },
    {
      "cell_type": "code",
      "execution_count": 916,
      "metadata": {
        "colab": {
          "base_uri": "https://localhost:8080/"
        },
        "id": "wqmPhDCp7dIr",
        "outputId": "963aa8ba-10a2-445c-de22-c1d5ec10d1e0"
      },
      "outputs": [
        {
          "output_type": "stream",
          "name": "stdout",
          "text": [
            "LinregressResult(slope=0.06624105332082732, intercept=158.8767923885406, rvalue=0.038089963727442035, pvalue=0.22880585230376768, stderr=0.055009300709166986, intercept_stderr=16.003100916079283)\n"
          ]
        }
      ],
      "source": [
        "X = df_num1['shipping_cost']\n",
        "y = df_num1['profit']\n",
        "\n",
        "res = scipy.stats.linregress(X, y)\n",
        "print(res)\n",
        "#строим модель зависимости прибыли от стоимости доставки"
      ],
      "id": "wqmPhDCp7dIr"
    },
    {
      "cell_type": "code",
      "execution_count": 917,
      "metadata": {
        "colab": {
          "base_uri": "https://localhost:8080/"
        },
        "id": "q9c2hyeR8AuY",
        "outputId": "e296a020-c76e-48be-fe9a-c66af85941d0"
      },
      "outputs": [
        {
          "output_type": "stream",
          "name": "stdout",
          "text": [
            "0.00145084533675785\n"
          ]
        }
      ],
      "source": [
        "r_sq = res.rvalue ** 2\n",
        "print(r_sq)\n",
        "\n",
        "#коэффициент детерминации показывает слабую связь. проверим также на графике"
      ],
      "id": "q9c2hyeR8AuY"
    },
    {
      "cell_type": "code",
      "execution_count": 918,
      "metadata": {
        "colab": {
          "base_uri": "https://localhost:8080/",
          "height": 265
        },
        "id": "k6TqxUlk8DYc",
        "outputId": "9bbcaeca-171a-479c-c616-d4e44f7a3e3f"
      },
      "outputs": [
        {
          "output_type": "display_data",
          "data": {
            "text/plain": [
              "<Figure size 432x288 with 1 Axes>"
            ],
            "image/png": "[encoded data removed]"
          },
          "metadata": {
            "needs_background": "light"
          }
        }
      ],
      "source": [
        "plt.scatter(X, y, label = 'оригинальные данные')\n",
        "plt.plot(X, res.intercept + res.slope * X, 'r', label = 'линия регрессии')\n",
        "plt.legend()\n",
        "plt.show()\n",
        "\n",
        "#по графику видим, что связь есть, однако не сильная: при значительно росте цены на доставку прибыль увеличивается незначительно"
      ],
      "id": "k6TqxUlk8DYc"
    },
    {
      "cell_type": "markdown",
      "metadata": {
        "id": "6-R0SwsnqfHa"
      },
      "source": [
        "#Множественная линейная регрессия"
      ],
      "id": "6-R0SwsnqfHa"
    },
    {
      "cell_type": "code",
      "execution_count": 919,
      "metadata": {
        "colab": {
          "base_uri": "https://localhost:8080/"
        },
        "id": "thv_WQXSQfNn",
        "outputId": "86130a2c-a745-4ab3-91ea-0b1cdb21496a"
      },
      "outputs": [
        {
          "output_type": "stream",
          "name": "stdout",
          "text": [
            "                            OLS Regression Results                            \n",
            "==============================================================================\n",
            "Dep. Variable:                 profit   R-squared:                       0.271\n",
            "Model:                            OLS   Adj. R-squared:                  0.268\n",
            "Method:                 Least Squares   F-statistic:                     123.2\n",
            "Date:                Wed, 14 Dec 2022   Prob (F-statistic):           7.60e-68\n",
            "Time:                        19:30:15   Log-Likelihood:                -6574.2\n",
            "No. Observations:                1000   AIC:                         1.316e+04\n",
            "Df Residuals:                     996   BIC:                         1.318e+04\n",
            "Df Model:                           3                                         \n",
            "Covariance Type:            nonrobust                                         \n",
            "=================================================================================\n",
            "                    coef    std err          t      P>|t|      [0.025      0.975]\n",
            "---------------------------------------------------------------------------------\n",
            "const           243.4505     17.323     14.054      0.000     209.457     277.444\n",
            "quantity         -2.9612      2.168     -1.366      0.172      -7.216       1.293\n",
            "discount       -901.6675     47.183    -19.110      0.000    -994.257    -809.078\n",
            "shipping_cost     0.0949      0.048      1.992      0.047       0.001       0.188\n",
            "==============================================================================\n",
            "Omnibus:                        7.466   Durbin-Watson:                   2.074\n",
            "Prob(Omnibus):                  0.024   Jarque-Bera (JB):                5.567\n",
            "Skew:                           0.057   Prob(JB):                       0.0618\n",
            "Kurtosis:                       2.653   Cond. No.                     2.51e+03\n",
            "==============================================================================\n",
            "\n",
            "Notes:\n",
            "[1] Standard Errors assume that the covariance matrix of the errors is correctly specified.\n",
            "[2] The condition number is large, 2.51e+03. This might indicate that there are\n",
            "strong multicollinearity or other numerical problems.\n"
          ]
        },
        {
          "output_type": "stream",
          "name": "stderr",
          "text": [
            "/usr/local/lib/python3.8/dist-packages/statsmodels/tsa/tsatools.py:142: FutureWarning: In a future version of pandas all arguments of concat except for the argument 'objs' will be keyword-only\n",
            "  x = pd.concat(x[::order], 1)\n"
          ]
        }
      ],
      "source": [
        "#выбираем зависимую (Y) и независимые переменные (X) для построения множественной линейной регрессии\n",
        "import statsmodels.api as sm\n",
        "\n",
        "X_mult = df_num1.drop(columns='profit', axis=1)\n",
        "Y = df_num1['profit']\n",
        "X_mult_constant = sm.add_constant(X_mult)\n",
        "\n",
        "mod = sm.OLS(y, X_mult_constant)\n",
        "res_mult = mod.fit()\n",
        "print(res_mult.summary())"
      ],
      "id": "thv_WQXSQfNn"
    },
    {
      "cell_type": "code",
      "execution_count": 920,
      "metadata": {
        "colab": {
          "base_uri": "https://localhost:8080/",
          "height": 88
        },
        "id": "9edJWjTkrrNM",
        "outputId": "cf225091-c1f6-43b3-cecf-2870d1b34ac9"
      },
      "outputs": [
        {
          "output_type": "execute_result",
          "data": {
            "text/plain": [
              "'интерпретация модели показывает, что:\\n1 - модель может описать только 34% данных\\n2 - вероятность того, что коэффициенты при всех переменных равны нулю очень низкая\\n3 - наиболее хорошо измерен коэффициент shipping_cost, так как у него наиболее значение t\\n4 - переменная quantity не влияет на зависимую переменную profit с вероятностью 15.1%\\n5 - переменная discount не влияет на зависимую переменную profit с вероятностью 0%\\n6 - 5 - переменная shipping_cost не влияет на зависимую переменную profit с вероятностью 0%\\n7 - данные распределены не нормально'"
            ],
            "application/vnd.google.colaboratory.intrinsic+json": {
              "type": "string"
            }
          },
          "metadata": {},
          "execution_count": 920
        }
      ],
      "source": [
        "'''интерпретация модели показывает, что:\n",
        "1 - модель может описать только 34% данных\n",
        "2 - вероятность того, что коэффициенты при всех переменных равны нулю очень низкая\n",
        "3 - наиболее хорошо измерен коэффициент shipping_cost, так как у него наиболее значение t\n",
        "4 - переменная quantity не влияет на зависимую переменную profit с вероятностью 15.1%\n",
        "5 - переменная discount не влияет на зависимую переменную profit с вероятностью 0%\n",
        "6 - 5 - переменная shipping_cost не влияет на зависимую переменную profit с вероятностью 0%\n",
        "7 - данные распределены не нормально'''"
      ],
      "id": "9edJWjTkrrNM"
    },
    {
      "cell_type": "markdown",
      "source": [
        "#Логистическая регрессия"
      ],
      "metadata": {
        "id": "VyrO2GjFLcFN"
      },
      "id": "VyrO2GjFLcFN"
    },
    {
      "cell_type": "code",
      "execution_count": 951,
      "metadata": {
        "colab": {
          "base_uri": "https://localhost:8080/"
        },
        "id": "C6EKo3mDTx6d",
        "outputId": "f12c9f75-f7d1-435a-c27d-58f7357078d9"
      },
      "outputs": [
        {
          "output_type": "stream",
          "name": "stdout",
          "text": [
            "(51290, 2) (38467, 2) (12823, 2)\n"
          ]
        }
      ],
      "source": [
        "#делим данные 2 выборки - train и  test, для проверки модели. создадим новый датасет, в который включим только те данные, которые можем перевести в int64 для обучения модели\n",
        "\n",
        "df_num2 = df[['quantity', 'discount',\t'profit']]\n",
        "\n",
        "X = df_num2.drop(columns='profit', axis=1)\n",
        "Y = df_num2['profit']\n",
        "\n",
        "from sklearn.model_selection import train_test_split, cross_val_predict\n",
        "X_train, X_test, Y_train, Y_test = train_test_split(X, Y, test_size=0.25, random_state=42)\n",
        "\n",
        "print(X.shape, X_train.shape, X_test.shape)"
      ],
      "id": "C6EKo3mDTx6d"
    },
    {
      "cell_type": "code",
      "execution_count": 952,
      "metadata": {
        "colab": {
          "base_uri": "https://localhost:8080/"
        },
        "id": "yzsZu-aCXkJu",
        "outputId": "8ce356e6-c7ee-4561-c15b-902996be0169"
      },
      "outputs": [
        {
          "output_type": "execute_result",
          "data": {
            "text/plain": [
              "3.0"
            ]
          },
          "metadata": {},
          "execution_count": 952
        }
      ],
      "source": [
        "round(len(X_train) / len(X_test), 1)\n",
        "\n",
        "#соотношение = 1 к 3"
      ],
      "id": "yzsZu-aCXkJu"
    },
    {
      "cell_type": "code",
      "execution_count": 953,
      "metadata": {
        "id": "I2qt7wtbXvD0"
      },
      "outputs": [],
      "source": [
        "#обучение\n",
        "\n",
        "from sklearn.linear_model import LinearRegression\n",
        "from sklearn.metrics import *\n",
        "from sklearn.model_selection import cross_val_score\n",
        "reg = LinearRegression()\n",
        "reg.fit(X_train, Y_train)\n",
        "Y_pred = reg.predict(X_test)\n",
        "score = cross_val_score(reg, X, Y, cv = 10)\n",
        "\n",
        "#количество вариаций = 10"
      ],
      "id": "I2qt7wtbXvD0"
    },
    {
      "cell_type": "code",
      "execution_count": 954,
      "metadata": {
        "id": "wGziSJ1jGbHy"
      },
      "outputs": [],
      "source": [
        "#сгруппируем данные \"profit\"\n",
        "\n",
        "def get_profit_cat(profit):\n",
        "    if profit > 0:\n",
        "        return 1\n",
        "    else:\n",
        "        return 0"
      ],
      "id": "wGziSJ1jGbHy"
    },
    {
      "cell_type": "code",
      "execution_count": 943,
      "metadata": {
        "colab": {
          "base_uri": "https://localhost:8080/"
        },
        "id": "p0JPe7vZGrhy",
        "outputId": "2d7d3753-f176-4603-a3bb-659f6508c5a9"
      },
      "outputs": [
        {
          "output_type": "stream",
          "name": "stderr",
          "text": [
            "<ipython-input-943-3a680c4cc616>:1: SettingWithCopyWarning: \n",
            "A value is trying to be set on a copy of a slice from a DataFrame.\n",
            "Try using .loc[row_indexer,col_indexer] = value instead\n",
            "\n",
            "See the caveats in the documentation: https://pandas.pydata.org/pandas-docs/stable/user_guide/indexing.html#returning-a-view-versus-a-copy\n",
            "  df_num2['profit'] = df_num2['profit'].apply(get_profit_cat)\n"
          ]
        }
      ],
      "source": [
        "df_num2['profit'] = df_num2['profit'].apply(get_profit_cat)"
      ],
      "id": "p0JPe7vZGrhy"
    },
    {
      "cell_type": "code",
      "source": [
        "#сгруппируем данные \"discount\". возьмем простую группировку, в которой скидка меньше 50% -- низкая, выше -- высокая и закодируем это под 0 и 1\n",
        "\n",
        "def get_discount_cat(discount):\n",
        "    if discount < 0.5:\n",
        "        return 0\n",
        "    else:\n",
        "        return 1\n",
        "df_num2['discount'] = df_num2['discount'].apply(get_discount_cat)"
      ],
      "metadata": {
        "colab": {
          "base_uri": "https://localhost:8080/"
        },
        "id": "ictsYK6IJsuW",
        "outputId": "ff70cb6c-4742-4b0a-ae44-90b6f7cad5a8"
      },
      "id": "ictsYK6IJsuW",
      "execution_count": 947,
      "outputs": [
        {
          "output_type": "stream",
          "name": "stderr",
          "text": [
            "<ipython-input-947-3b510c057338>:8: SettingWithCopyWarning: \n",
            "A value is trying to be set on a copy of a slice from a DataFrame.\n",
            "Try using .loc[row_indexer,col_indexer] = value instead\n",
            "\n",
            "See the caveats in the documentation: https://pandas.pydata.org/pandas-docs/stable/user_guide/indexing.html#returning-a-view-versus-a-copy\n",
            "  df_num2['discount'] = df_num2['discount'].apply(get_discount_cat)\n"
          ]
        }
      ]
    },
    {
      "cell_type": "code",
      "source": [
        "df_num2.info()"
      ],
      "metadata": {
        "colab": {
          "base_uri": "https://localhost:8080/"
        },
        "id": "PdVPyu6YIqT0",
        "outputId": "36347bfb-0f51-4066-8392-25ad83493150"
      },
      "id": "PdVPyu6YIqT0",
      "execution_count": 955,
      "outputs": [
        {
          "output_type": "stream",
          "name": "stdout",
          "text": [
            "<class 'pandas.core.frame.DataFrame'>\n",
            "RangeIndex: 51290 entries, 0 to 51289\n",
            "Data columns (total 3 columns):\n",
            " #   Column    Non-Null Count  Dtype  \n",
            "---  ------    --------------  -----  \n",
            " 0   quantity  51290 non-null  int64  \n",
            " 1   discount  51290 non-null  float64\n",
            " 2   profit    51290 non-null  float64\n",
            "dtypes: float64(2), int64(1)\n",
            "memory usage: 1.2 MB\n"
          ]
        }
      ]
    },
    {
      "cell_type": "code",
      "execution_count": 957,
      "metadata": {
        "colab": {
          "base_uri": "https://localhost:8080/",
          "height": 143
        },
        "id": "43G13FIRCsQ4",
        "outputId": "5c041dfb-9aaf-4371-aa44-3131cd76bd31"
      },
      "outputs": [
        {
          "output_type": "execute_result",
          "data": {
            "text/plain": [
              "   Коэффициент Независимые переменные Зависимая переменная\n",
              "0       7.3123               quantity                  NaN\n",
              "1    -261.1037               discount                  NaN\n",
              "2      39.4872                    NaN           profit_cat"
            ],
            "text/html": [
              "\n",
              "  <div id=\"df-1380c89e-d456-40c0-837e-1a2f8049f59c\">\n",
              "    <div class=\"colab-df-container\">\n",
              "      <div>\n",
              "<style scoped>\n",
              "    .dataframe tbody tr th:only-of-type {\n",
              "        vertical-align: middle;\n",
              "    }\n",
              "\n",
              "    .dataframe tbody tr th {\n",
              "        vertical-align: top;\n",
              "    }\n",
              "\n",
              "    .dataframe thead th {\n",
              "        text-align: right;\n",
              "    }\n",
              "</style>\n",
              "<table border=\"1\" class=\"dataframe\">\n",
              "  <thead>\n",
              "    <tr style=\"text-align: right;\">\n",
              "      <th></th>\n",
              "      <th>Коэффициент</th>\n",
              "      <th>Независимые переменные</th>\n",
              "      <th>Зависимая переменная</th>\n",
              "    </tr>\n",
              "  </thead>\n",
              "  <tbody>\n",
              "    <tr>\n",
              "      <th>0</th>\n",
              "      <td>7.3123</td>\n",
              "      <td>quantity</td>\n",
              "      <td>NaN</td>\n",
              "    </tr>\n",
              "    <tr>\n",
              "      <th>1</th>\n",
              "      <td>-261.1037</td>\n",
              "      <td>discount</td>\n",
              "      <td>NaN</td>\n",
              "    </tr>\n",
              "    <tr>\n",
              "      <th>2</th>\n",
              "      <td>39.4872</td>\n",
              "      <td>NaN</td>\n",
              "      <td>profit_cat</td>\n",
              "    </tr>\n",
              "  </tbody>\n",
              "</table>\n",
              "</div>\n",
              "      <button class=\"colab-df-convert\" onclick=\"convertToInteractive('df-1380c89e-d456-40c0-837e-1a2f8049f59c')\"\n",
              "              title=\"Convert this dataframe to an interactive table.\"\n",
              "              style=\"display:none;\">\n",
              "        \n",
              "  <svg xmlns=\"http://www.w3.org/2000/svg\" height=\"24px\"viewBox=\"0 0 24 24\"\n",
              "       width=\"24px\">\n",
              "    <path d=\"M0 0h24v24H0V0z\" fill=\"none\"/>\n",
              "    <path d=\"M18.56 5.44l.94 2.06.94-2.06 2.06-.94-2.06-.94-.94-2.06-.94 2.06-2.06.94zm-11 1L8.5 8.5l.94-2.06 2.06-.94-2.06-.94L8.5 2.5l-.94 2.06-2.06.94zm10 10l.94 2.06.94-2.06 2.06-.94-2.06-.94-.94-2.06-.94 2.06-2.06.94z\"/><path d=\"M17.41 7.96l-1.37-1.37c-.4-.4-.92-.59-1.43-.59-.52 0-1.04.2-1.43.59L10.3 9.45l-7.72 7.72c-.78.78-.78 2.05 0 2.83L4 21.41c.39.39.9.59 1.41.59.51 0 1.02-.2 1.41-.59l7.78-7.78 2.81-2.81c.8-.78.8-2.07 0-2.86zM5.41 20L4 18.59l7.72-7.72 1.47 1.35L5.41 20z\"/>\n",
              "  </svg>\n",
              "      </button>\n",
              "      \n",
              "  <style>\n",
              "    .colab-df-container {\n",
              "      display:flex;\n",
              "      flex-wrap:wrap;\n",
              "      gap: 12px;\n",
              "    }\n",
              "\n",
              "    .colab-df-convert {\n",
              "      background-color: #E8F0FE;\n",
              "      border: none;\n",
              "      border-radius: 50%;\n",
              "      cursor: pointer;\n",
              "      display: none;\n",
              "      fill: #1967D2;\n",
              "      height: 32px;\n",
              "      padding: 0 0 0 0;\n",
              "      width: 32px;\n",
              "    }\n",
              "\n",
              "    .colab-df-convert:hover {\n",
              "      background-color: #E2EBFA;\n",
              "      box-shadow: 0px 1px 2px rgba(60, 64, 67, 0.3), 0px 1px 3px 1px rgba(60, 64, 67, 0.15);\n",
              "      fill: #174EA6;\n",
              "    }\n",
              "\n",
              "    [theme=dark] .colab-df-convert {\n",
              "      background-color: #3B4455;\n",
              "      fill: #D2E3FC;\n",
              "    }\n",
              "\n",
              "    [theme=dark] .colab-df-convert:hover {\n",
              "      background-color: #434B5C;\n",
              "      box-shadow: 0px 1px 3px 1px rgba(0, 0, 0, 0.15);\n",
              "      filter: drop-shadow(0px 1px 2px rgba(0, 0, 0, 0.3));\n",
              "      fill: #FFFFFF;\n",
              "    }\n",
              "  </style>\n",
              "\n",
              "      <script>\n",
              "        const buttonEl =\n",
              "          document.querySelector('#df-1380c89e-d456-40c0-837e-1a2f8049f59c button.colab-df-convert');\n",
              "        buttonEl.style.display =\n",
              "          google.colab.kernel.accessAllowed ? 'block' : 'none';\n",
              "\n",
              "        async function convertToInteractive(key) {\n",
              "          const element = document.querySelector('#df-1380c89e-d456-40c0-837e-1a2f8049f59c');\n",
              "          const dataTable =\n",
              "            await google.colab.kernel.invokeFunction('convertToInteractive',\n",
              "                                                     [key], {});\n",
              "          if (!dataTable) return;\n",
              "\n",
              "          const docLinkHtml = 'Like what you see? Visit the ' +\n",
              "            '<a target=\"_blank\" href=https://colab.research.google.com/notebooks/data_table.ipynb>data table notebook</a>'\n",
              "            + ' to learn more about interactive tables.';\n",
              "          element.innerHTML = '';\n",
              "          dataTable['output_type'] = 'display_data';\n",
              "          await google.colab.output.renderOutput(dataTable, element);\n",
              "          const docLink = document.createElement('div');\n",
              "          docLink.innerHTML = docLinkHtml;\n",
              "          element.appendChild(docLink);\n",
              "        }\n",
              "      </script>\n",
              "    </div>\n",
              "  </div>\n",
              "  "
            ]
          },
          "metadata": {},
          "execution_count": 957
        }
      ],
      "source": [
        "lin_reg_coefs = pd.DataFrame({'Коэффициент' : reg.coef_,\n",
        "                    'Независимые переменные' : ['quantity', \t'discount']})\n",
        "lin_reg_coefs = lin_reg_coefs.append({'Коэффициент' : reg.intercept_,\n",
        "                   'Зависимая переменная' : 'profit_cat'}, ignore_index = True)\n",
        "\n",
        "lin_reg_coefs"
      ],
      "id": "43G13FIRCsQ4"
    },
    {
      "cell_type": "code",
      "execution_count": 958,
      "metadata": {
        "id": "ViMi3vqOGCoZ",
        "colab": {
          "base_uri": "https://localhost:8080/",
          "height": 380
        },
        "outputId": "c098ac8a-2e3c-40de-c5ef-232898646087"
      },
      "outputs": [
        {
          "output_type": "error",
          "ename": "ValueError",
          "evalue": "ignored",
          "traceback": [
            "\u001b[0;31m---------------------------------------------------------------------------\u001b[0m",
            "\u001b[0;31mValueError\u001b[0m                                Traceback (most recent call last)",
            "\u001b[0;32m<ipython-input-958-8369f1224a4b>\u001b[0m in \u001b[0;36m<module>\u001b[0;34m\u001b[0m\n\u001b[1;32m      2\u001b[0m \u001b[0;34m\u001b[0m\u001b[0m\n\u001b[1;32m      3\u001b[0m \u001b[0;31m#обучаем модель\u001b[0m\u001b[0;34m\u001b[0m\u001b[0;34m\u001b[0m\u001b[0;34m\u001b[0m\u001b[0m\n\u001b[0;32m----> 4\u001b[0;31m \u001b[0mlog_regression\u001b[0m\u001b[0;34m.\u001b[0m\u001b[0mfit\u001b[0m\u001b[0;34m(\u001b[0m\u001b[0mX_train\u001b[0m\u001b[0;34m,\u001b[0m \u001b[0mY_train\u001b[0m\u001b[0;34m)\u001b[0m\u001b[0;34m\u001b[0m\u001b[0;34m\u001b[0m\u001b[0m\n\u001b[0m\u001b[1;32m      5\u001b[0m \u001b[0;34m\u001b[0m\u001b[0m\n\u001b[1;32m      6\u001b[0m \u001b[0;31m#применяем модель для прогнозирования\u001b[0m\u001b[0;34m\u001b[0m\u001b[0;34m\u001b[0m\u001b[0;34m\u001b[0m\u001b[0m\n",
            "\u001b[0;32m/usr/local/lib/python3.8/dist-packages/sklearn/linear_model/_logistic.py\u001b[0m in \u001b[0;36mfit\u001b[0;34m(self, X, y, sample_weight)\u001b[0m\n\u001b[1;32m   1514\u001b[0m             \u001b[0maccept_large_sparse\u001b[0m\u001b[0;34m=\u001b[0m\u001b[0msolver\u001b[0m \u001b[0;32mnot\u001b[0m \u001b[0;32min\u001b[0m \u001b[0;34m[\u001b[0m\u001b[0;34m\"liblinear\"\u001b[0m\u001b[0;34m,\u001b[0m \u001b[0;34m\"sag\"\u001b[0m\u001b[0;34m,\u001b[0m \u001b[0;34m\"saga\"\u001b[0m\u001b[0;34m]\u001b[0m\u001b[0;34m,\u001b[0m\u001b[0;34m\u001b[0m\u001b[0;34m\u001b[0m\u001b[0m\n\u001b[1;32m   1515\u001b[0m         )\n\u001b[0;32m-> 1516\u001b[0;31m         \u001b[0mcheck_classification_targets\u001b[0m\u001b[0;34m(\u001b[0m\u001b[0my\u001b[0m\u001b[0;34m)\u001b[0m\u001b[0;34m\u001b[0m\u001b[0;34m\u001b[0m\u001b[0m\n\u001b[0m\u001b[1;32m   1517\u001b[0m         \u001b[0mself\u001b[0m\u001b[0;34m.\u001b[0m\u001b[0mclasses_\u001b[0m \u001b[0;34m=\u001b[0m \u001b[0mnp\u001b[0m\u001b[0;34m.\u001b[0m\u001b[0munique\u001b[0m\u001b[0;34m(\u001b[0m\u001b[0my\u001b[0m\u001b[0;34m)\u001b[0m\u001b[0;34m\u001b[0m\u001b[0;34m\u001b[0m\u001b[0m\n\u001b[1;32m   1518\u001b[0m \u001b[0;34m\u001b[0m\u001b[0m\n",
            "\u001b[0;32m/usr/local/lib/python3.8/dist-packages/sklearn/utils/multiclass.py\u001b[0m in \u001b[0;36mcheck_classification_targets\u001b[0;34m(y)\u001b[0m\n\u001b[1;32m    195\u001b[0m         \u001b[0;34m\"multilabel-sequences\"\u001b[0m\u001b[0;34m,\u001b[0m\u001b[0;34m\u001b[0m\u001b[0;34m\u001b[0m\u001b[0m\n\u001b[1;32m    196\u001b[0m     ]:\n\u001b[0;32m--> 197\u001b[0;31m         \u001b[0;32mraise\u001b[0m \u001b[0mValueError\u001b[0m\u001b[0;34m(\u001b[0m\u001b[0;34m\"Unknown label type: %r\"\u001b[0m \u001b[0;34m%\u001b[0m \u001b[0my_type\u001b[0m\u001b[0;34m)\u001b[0m\u001b[0;34m\u001b[0m\u001b[0;34m\u001b[0m\u001b[0m\n\u001b[0m\u001b[1;32m    198\u001b[0m \u001b[0;34m\u001b[0m\u001b[0m\n\u001b[1;32m    199\u001b[0m \u001b[0;34m\u001b[0m\u001b[0m\n",
            "\u001b[0;31mValueError\u001b[0m: Unknown label type: 'continuous'"
          ]
        }
      ],
      "source": [
        "log_regression = LogisticRegression()\n",
        "\n",
        "#обучаем модель\n",
        "log_regression.fit(X_train, Y_train)\n",
        "\n",
        "#применяем модель для прогнозирования\n",
        "y_pred = log_regression.predict(X_test)"
      ],
      "id": "ViMi3vqOGCoZ"
    },
    {
      "cell_type": "code",
      "execution_count": 959,
      "metadata": {
        "colab": {
          "base_uri": "https://localhost:8080/",
          "height": 345
        },
        "id": "Bo0aKhViE317",
        "outputId": "e9d792df-7c52-42e0-d3bc-1c2fafc6f14a"
      },
      "outputs": [
        {
          "output_type": "error",
          "ename": "ValueError",
          "evalue": "ignored",
          "traceback": [
            "\u001b[0;31m---------------------------------------------------------------------------\u001b[0m",
            "\u001b[0;31mValueError\u001b[0m                                Traceback (most recent call last)",
            "\u001b[0;32m<ipython-input-959-8a7a746eb7e7>\u001b[0m in \u001b[0;36m<module>\u001b[0;34m\u001b[0m\n\u001b[1;32m      1\u001b[0m \u001b[0mlog_reg\u001b[0m \u001b[0;34m=\u001b[0m \u001b[0mLogisticRegression\u001b[0m\u001b[0;34m(\u001b[0m\u001b[0;34m)\u001b[0m\u001b[0;34m\u001b[0m\u001b[0;34m\u001b[0m\u001b[0m\n\u001b[0;32m----> 2\u001b[0;31m \u001b[0mlog_reg\u001b[0m\u001b[0;34m.\u001b[0m\u001b[0mfit\u001b[0m\u001b[0;34m(\u001b[0m\u001b[0mX_train\u001b[0m\u001b[0;34m,\u001b[0m \u001b[0mY_train\u001b[0m\u001b[0;34m)\u001b[0m\u001b[0;34m\u001b[0m\u001b[0;34m\u001b[0m\u001b[0m\n\u001b[0m\u001b[1;32m      3\u001b[0m \u001b[0mY_pred\u001b[0m \u001b[0;34m=\u001b[0m \u001b[0mlog_reg\u001b[0m\u001b[0;34m.\u001b[0m\u001b[0mpredict\u001b[0m\u001b[0;34m(\u001b[0m\u001b[0mX_test\u001b[0m\u001b[0;34m)\u001b[0m\u001b[0;34m\u001b[0m\u001b[0;34m\u001b[0m\u001b[0m\n",
            "\u001b[0;32m/usr/local/lib/python3.8/dist-packages/sklearn/linear_model/_logistic.py\u001b[0m in \u001b[0;36mfit\u001b[0;34m(self, X, y, sample_weight)\u001b[0m\n\u001b[1;32m   1514\u001b[0m             \u001b[0maccept_large_sparse\u001b[0m\u001b[0;34m=\u001b[0m\u001b[0msolver\u001b[0m \u001b[0;32mnot\u001b[0m \u001b[0;32min\u001b[0m \u001b[0;34m[\u001b[0m\u001b[0;34m\"liblinear\"\u001b[0m\u001b[0;34m,\u001b[0m \u001b[0;34m\"sag\"\u001b[0m\u001b[0;34m,\u001b[0m \u001b[0;34m\"saga\"\u001b[0m\u001b[0;34m]\u001b[0m\u001b[0;34m,\u001b[0m\u001b[0;34m\u001b[0m\u001b[0;34m\u001b[0m\u001b[0m\n\u001b[1;32m   1515\u001b[0m         )\n\u001b[0;32m-> 1516\u001b[0;31m         \u001b[0mcheck_classification_targets\u001b[0m\u001b[0;34m(\u001b[0m\u001b[0my\u001b[0m\u001b[0;34m)\u001b[0m\u001b[0;34m\u001b[0m\u001b[0;34m\u001b[0m\u001b[0m\n\u001b[0m\u001b[1;32m   1517\u001b[0m         \u001b[0mself\u001b[0m\u001b[0;34m.\u001b[0m\u001b[0mclasses_\u001b[0m \u001b[0;34m=\u001b[0m \u001b[0mnp\u001b[0m\u001b[0;34m.\u001b[0m\u001b[0munique\u001b[0m\u001b[0;34m(\u001b[0m\u001b[0my\u001b[0m\u001b[0;34m)\u001b[0m\u001b[0;34m\u001b[0m\u001b[0;34m\u001b[0m\u001b[0m\n\u001b[1;32m   1518\u001b[0m \u001b[0;34m\u001b[0m\u001b[0m\n",
            "\u001b[0;32m/usr/local/lib/python3.8/dist-packages/sklearn/utils/multiclass.py\u001b[0m in \u001b[0;36mcheck_classification_targets\u001b[0;34m(y)\u001b[0m\n\u001b[1;32m    195\u001b[0m         \u001b[0;34m\"multilabel-sequences\"\u001b[0m\u001b[0;34m,\u001b[0m\u001b[0;34m\u001b[0m\u001b[0;34m\u001b[0m\u001b[0m\n\u001b[1;32m    196\u001b[0m     ]:\n\u001b[0;32m--> 197\u001b[0;31m         \u001b[0;32mraise\u001b[0m \u001b[0mValueError\u001b[0m\u001b[0;34m(\u001b[0m\u001b[0;34m\"Unknown label type: %r\"\u001b[0m \u001b[0;34m%\u001b[0m \u001b[0my_type\u001b[0m\u001b[0;34m)\u001b[0m\u001b[0;34m\u001b[0m\u001b[0;34m\u001b[0m\u001b[0m\n\u001b[0m\u001b[1;32m    198\u001b[0m \u001b[0;34m\u001b[0m\u001b[0m\n\u001b[1;32m    199\u001b[0m \u001b[0;34m\u001b[0m\u001b[0m\n",
            "\u001b[0;31mValueError\u001b[0m: Unknown label type: 'continuous'"
          ]
        }
      ],
      "source": [
        "log_reg = LogisticRegression()\n",
        "log_reg.fit(X_train, Y_train)\n",
        "Y_pred = log_reg.predict(X_test)"
      ],
      "id": "Bo0aKhViE317"
    },
    {
      "cell_type": "code",
      "execution_count": null,
      "metadata": {
        "id": "vUQ9bLjmVIjE"
      },
      "outputs": [],
      "source": [
        "#итог: обучение модели не получилось, так как из-за ошибки ValueError: Unknown label type: 'continuous'"
      ],
      "id": "vUQ9bLjmVIjE"
    },
    {
      "cell_type": "markdown",
      "source": [
        "#Выводы"
      ],
      "metadata": {
        "id": "TjViiR8CKb7f"
      },
      "id": "TjViiR8CKb7f"
    },
    {
      "cell_type": "markdown",
      "source": [
        "В результате данной работы были затронуты следующие темы:\n",
        "- фильтрация и группировка\n",
        "- выбросы\n",
        "- непараметрическое тестирование гипотез\n",
        "- параметрическое тестирование гипотез\n",
        "- корреляция\n",
        "- линейная реграссия\n",
        "- логистическая регрессия\n",
        "\n",
        "Были проверен ряд гипотез, однако изучена только часть датасета, так как в первую очередь инстурменты были направлены на работу с количественными данными, коих было представлено в датасете не много. Более того, не все данный можно было перевести в бинарные без потери сути, поэтому объемы данных значительно сократились.\n",
        "Однако в существующих условиях удалось продемонстрировать полученные навыки. "
      ],
      "metadata": {
        "id": "QXdExEG0K3bh"
      },
      "id": "QXdExEG0K3bh"
    }
  ],
  "metadata": {
    "colab": {
      "provenance": []
    },
    "kernelspec": {
      "display_name": "Python 3",
      "language": "python",
      "name": "python3"
    },
    "language_info": {
      "codemirror_mode": {
        "name": "ipython",
        "version": 3
      },
      "file_extension": ".py",
      "mimetype": "text/x-python",
      "name": "python",
      "nbconvert_exporter": "python",
      "pygments_lexer": "ipython3",
      "version": "3.7.12"
    },
    "papermill": {
      "default_parameters": {},
      "duration": 28.815571,
      "end_time": "2022-12-07T09:00:32.101733",
      "environment_variables": {},
      "exception": null,
      "input_path": "__notebook__.ipynb",
      "output_path": "__notebook__.ipynb",
      "parameters": {},
      "start_time": "2022-12-07T09:00:03.286162",
      "version": "2.3.4"
    }
  },
  "nbformat": 4,
  "nbformat_minor": 5
}